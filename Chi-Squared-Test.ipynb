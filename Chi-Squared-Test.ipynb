{
 "cells": [
  {
   "cell_type": "code",
   "execution_count": 4,
   "id": "129de72b-6efe-4a1f-ab6d-47581ab5ace4",
   "metadata": {},
   "outputs": [],
   "source": [
    "import numpy as np\n",
    "import pandas as pd\n",
    "import matplotlib.pyplot as plt"
   ]
  },
  {
   "cell_type": "markdown",
   "id": "86c3a12f-1c0e-4dcf-b70e-49c1e28529bd",
   "metadata": {},
   "source": [
    "### Overview\n",
    "The chi-squared (χ²) test is a statistical method used to determine whether there is a significant association between categorical variables. It is a non-parametric test that compares the observed frequencies in each category with the frequencies expected if there were no association (i.e., the variables are independent). The test measures how well the observed data fits with the expected distribution based on a specific hypothesis."
   ]
  },
  {
   "cell_type": "markdown",
   "id": "1ffde50d-c082-48f8-83b1-d3cfdee6c639",
   "metadata": {},
   "source": [
    "### Chi-Squared Test for Goodness of Fit\n",
    "- Purpose: It assesses whether an observed frequency distribution matches an expected distribution. Essentially, it tests if a single categorical variable fits a specific distribution.\n",
    "- Use Case: Used when you have one categorical variable from a single population and you want to check if the distribution of categories matches a theoretical distribution.\n",
    "- Example: Checking if a six-sided die is fair by comparing the observed frequency of each outcome (1 to 6) with the expected frequency if the die were fair."
   ]
  },
  {
   "cell_type": "markdown",
   "id": "2ee94b2c-68ea-4cf3-a9a0-688f2faa5928",
   "metadata": {},
   "source": [
    "#### Case Study - One-Sample Chi-Squared Test\n",
    "A psychologist is observing eating behaviour in 131 children aged 3 years old from Newcastle. He presents each child 20 new foods which they have never eaten before. He then records the number of foods they actually try.\n",
    "\n",
    "Previous research with thousands of children from across the country has shown that we expect 40% of young children to try 0 to 5 new foods, 30% to try 6 to \n",
    "10 new foods, 20% to try 11 to 15 new foods and 10% to try 16 to 20 new foods.\n",
    "\n",
    "Perform a test to see if the children from Newcastle follow the same distribution that the research on British children has found.\n",
    "\n",
    "#### Hypothesis:\n",
    "- H0: The children from Newcastle follow the same distribution found by the research.\n",
    "- H1: The children from Newcastle do not follow the same distribution found by the research."
   ]
  },
  {
   "cell_type": "code",
   "execution_count": 5,
   "id": "7fe80e03-0e32-428d-adaa-0a303a70bf16",
   "metadata": {},
   "outputs": [
    {
     "data": {
      "text/html": [
       "<div>\n",
       "<style scoped>\n",
       "    .dataframe tbody tr th:only-of-type {\n",
       "        vertical-align: middle;\n",
       "    }\n",
       "\n",
       "    .dataframe tbody tr th {\n",
       "        vertical-align: top;\n",
       "    }\n",
       "\n",
       "    .dataframe thead th {\n",
       "        text-align: right;\n",
       "    }\n",
       "</style>\n",
       "<table border=\"1\" class=\"dataframe\">\n",
       "  <thead>\n",
       "    <tr style=\"text-align: right;\">\n",
       "      <th></th>\n",
       "      <th>Number of food tried</th>\n",
       "      <th>Frequency</th>\n",
       "    </tr>\n",
       "  </thead>\n",
       "  <tbody>\n",
       "    <tr>\n",
       "      <th>0</th>\n",
       "      <td>0-5</td>\n",
       "      <td>45</td>\n",
       "    </tr>\n",
       "    <tr>\n",
       "      <th>1</th>\n",
       "      <td>6-10</td>\n",
       "      <td>34</td>\n",
       "    </tr>\n",
       "    <tr>\n",
       "      <th>2</th>\n",
       "      <td>11-15</td>\n",
       "      <td>31</td>\n",
       "    </tr>\n",
       "    <tr>\n",
       "      <th>3</th>\n",
       "      <td>16-20</td>\n",
       "      <td>21</td>\n",
       "    </tr>\n",
       "  </tbody>\n",
       "</table>\n",
       "</div>"
      ],
      "text/plain": [
       "  Number of food tried  Frequency\n",
       "0                  0-5         45\n",
       "1                 6-10         34\n",
       "2                11-15         31\n",
       "3                16-20         21"
      ]
     },
     "execution_count": 5,
     "metadata": {},
     "output_type": "execute_result"
    }
   ],
   "source": [
    "# test results of children from Newcastle\n",
    "data = [['0-5',45],['6-10',34],['11-15',31],['16-20',21]]\n",
    "df = pd.DataFrame(data, columns=['Number of food tried','Frequency'])\n",
    "df"
   ]
  },
  {
   "cell_type": "code",
   "execution_count": 10,
   "id": "8eaf22db-2cee-43ba-8af6-0d96d5f19793",
   "metadata": {},
   "outputs": [],
   "source": [
    "# observed frequencies\n",
    "observed = list(df['Frequency'])\n",
    "\n",
    "# expected frequencies\n",
    "total = df['Frequency'].sum()\n",
    "expected = [0.4*total, 0.3*total, 0.2*total, 0.1*total]"
   ]
  },
  {
   "cell_type": "code",
   "execution_count": 11,
   "id": "b0023e0d-a411-418f-8e80-06a6ebd62700",
   "metadata": {},
   "outputs": [
    {
     "data": {
      "text/plain": [
       "[45, 34, 31, 21]"
      ]
     },
     "execution_count": 11,
     "metadata": {},
     "output_type": "execute_result"
    }
   ],
   "source": [
    "observed"
   ]
  },
  {
   "cell_type": "code",
   "execution_count": 12,
   "id": "9d99942c-825c-4752-b575-ef9d61108f66",
   "metadata": {},
   "outputs": [
    {
     "data": {
      "text/plain": [
       "[52.400000000000006, 39.3, 26.200000000000003, 13.100000000000001]"
      ]
     },
     "execution_count": 12,
     "metadata": {},
     "output_type": "execute_result"
    }
   ],
   "source": [
    "expected"
   ]
  },
  {
   "cell_type": "code",
   "execution_count": 13,
   "id": "5448375b-38ec-4279-8670-a37f3ce4e76e",
   "metadata": {},
   "outputs": [
    {
     "name": "stdout",
     "output_type": "stream",
     "text": [
      "Chi-Squared Statistic: 7.40330788804071\n",
      "P-Value: 0.06009563348294773\n",
      "Fail to reject the null hypothesis: The children from Newcastle follow the same distribution found by the research.\n"
     ]
    }
   ],
   "source": [
    "import scipy.stats as stats\n",
    "\n",
    "# Perform the Chi-Squared test\n",
    "chi2_stat, p_value = stats.chisquare(f_obs=observed, f_exp=expected)\n",
    "\n",
    "# Output the results\n",
    "print(f\"Chi-Squared Statistic: {chi2_stat}\")\n",
    "print(f\"P-Value: {p_value}\")\n",
    "\n",
    "# Decision based on p-value\n",
    "alpha = 0.05  # significance level\n",
    "if p_value < alpha:\n",
    "    print(\"Reject the null hypothesis: The children from Newcastle do not follow the same distribution found by the research.\")\n",
    "else:\n",
    "    print(\"Fail to reject the null hypothesis: The children from Newcastle follow the same distribution found by the research.\")\n"
   ]
  },
  {
   "cell_type": "markdown",
   "id": "c20653cb-111e-4ffd-b977-27327ff91440",
   "metadata": {},
   "source": [
    "### Chi-Squared Test for Independence\n",
    "- Purpose: It evaluates whether there is a significant association between two categorical variables. The null hypothesis states that the variables are independent, while the alternative hypothesis suggests that they are associated.\n",
    "- Use Case: Used when you have two categorical variables and you want to see if there is a relationship between them.\n",
    "- Example: Testing if there is an association between gender (male/female) and preference for a particular type of movie (action/comedy/drama)."
   ]
  },
  {
   "cell_type": "markdown",
   "id": "0c6040e1-85ca-4d5d-833b-d16955ab9b0d",
   "metadata": {},
   "source": [
    "#### Case Study\n",
    "Imagine you work for a supermarket, and you want to investigate if there is an association between Gender (Male or Female) and Preference for a Product (Prefer Product A or Prefer Product B).\n",
    "\n",
    "You conducted a survey of 200 customers, and the results are shown in the table below."
   ]
  },
  {
   "cell_type": "code",
   "execution_count": 16,
   "id": "7425fae0-a5ef-4638-b9e3-23862555cf14",
   "metadata": {},
   "outputs": [
    {
     "data": {
      "text/html": [
       "<div>\n",
       "<style scoped>\n",
       "    .dataframe tbody tr th:only-of-type {\n",
       "        vertical-align: middle;\n",
       "    }\n",
       "\n",
       "    .dataframe tbody tr th {\n",
       "        vertical-align: top;\n",
       "    }\n",
       "\n",
       "    .dataframe thead th {\n",
       "        text-align: right;\n",
       "    }\n",
       "</style>\n",
       "<table border=\"1\" class=\"dataframe\">\n",
       "  <thead>\n",
       "    <tr style=\"text-align: right;\">\n",
       "      <th></th>\n",
       "      <th>Gender</th>\n",
       "      <th>Product A</th>\n",
       "      <th>Product B</th>\n",
       "      <th>Total</th>\n",
       "    </tr>\n",
       "  </thead>\n",
       "  <tbody>\n",
       "    <tr>\n",
       "      <th>0</th>\n",
       "      <td>Male</td>\n",
       "      <td>30</td>\n",
       "      <td>50</td>\n",
       "      <td>80</td>\n",
       "    </tr>\n",
       "    <tr>\n",
       "      <th>1</th>\n",
       "      <td>Female</td>\n",
       "      <td>70</td>\n",
       "      <td>50</td>\n",
       "      <td>120</td>\n",
       "    </tr>\n",
       "  </tbody>\n",
       "</table>\n",
       "</div>"
      ],
      "text/plain": [
       "   Gender  Product A  Product B  Total\n",
       "0    Male         30         50     80\n",
       "1  Female         70         50    120"
      ]
     },
     "execution_count": 16,
     "metadata": {},
     "output_type": "execute_result"
    }
   ],
   "source": [
    "survey_data = [['Male',30,50,80],['Female',70,50,120]]\n",
    "df_survey = pd.DataFrame(survey_data, columns=['Gender', 'Product A', 'Product B', 'Total'])\n",
    "df_survey"
   ]
  },
  {
   "cell_type": "markdown",
   "id": "cd5ac233-8b3e-4705-a2da-db1cbda21d60",
   "metadata": {},
   "source": [
    "#### Hypotheses:\n",
    "- Null Hypothesis 𝐻0: There is no association between Gender and Product Preference (they are independent).\n",
    "- Alternative Hypothesis 𝐻1: There is an association between Gender and Product Preference (they are not independent)."
   ]
  },
  {
   "cell_type": "code",
   "execution_count": 17,
   "id": "70789dec-918e-49a2-bc23-a5f891019444",
   "metadata": {},
   "outputs": [
    {
     "name": "stdout",
     "output_type": "stream",
     "text": [
      "Chi-Squared Statistic: 7.520833333333333\n",
      "P-Value: 0.006098945931214356\n",
      "Degrees of Freedom: 1\n",
      "Expected Frequencies Table:\n",
      "[[40. 40.]\n",
      " [60. 60.]]\n",
      "Reject the null hypothesis: There is an association between Gender and Product Preference.\n"
     ]
    }
   ],
   "source": [
    "# Observed data from the table\n",
    "observed = np.array([[30, 50],  # Male\n",
    "                     [70, 50]]) # Female\n",
    "\n",
    "# Perform the Chi-Squared Test of Independence\n",
    "chi2_stat, p_value, dof, expected = stats.chi2_contingency(observed)\n",
    "\n",
    "# Output the results\n",
    "print(f\"Chi-Squared Statistic: {chi2_stat}\")\n",
    "print(f\"P-Value: {p_value}\")\n",
    "print(f\"Degrees of Freedom: {dof}\")\n",
    "print(\"Expected Frequencies Table:\")\n",
    "print(expected)\n",
    "\n",
    "# Decision based on p-value\n",
    "alpha = 0.05  # significance level\n",
    "if p_value < alpha:\n",
    "    print(\"Reject the null hypothesis: There is an association between Gender and Product Preference.\")\n",
    "else:\n",
    "    print(\"Fail to reject the null hypothesis: No significant association between Gender and Product Preference.\")"
   ]
  },
  {
   "cell_type": "code",
   "execution_count": null,
   "id": "c0a7ffb0-72ed-4688-8f60-7fbc735cfbbd",
   "metadata": {},
   "outputs": [],
   "source": []
  }
 ],
 "metadata": {
  "kernelspec": {
   "display_name": "Python 3 (ipykernel)",
   "language": "python",
   "name": "python3"
  },
  "language_info": {
   "codemirror_mode": {
    "name": "ipython",
    "version": 3
   },
   "file_extension": ".py",
   "mimetype": "text/x-python",
   "name": "python",
   "nbconvert_exporter": "python",
   "pygments_lexer": "ipython3",
   "version": "3.9.7"
  }
 },
 "nbformat": 4,
 "nbformat_minor": 5
}
