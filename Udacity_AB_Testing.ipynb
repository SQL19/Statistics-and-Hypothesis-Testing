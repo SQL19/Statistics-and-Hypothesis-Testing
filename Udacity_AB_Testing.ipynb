{
 "cells": [
  {
   "cell_type": "markdown",
   "id": "2e833adc-034d-4a72-a6a7-36e825984410",
   "metadata": {},
   "source": [
    "## Introduction\n",
    "This project is from Udacity free course A/B Testing by Google.\n",
    "\n",
    "Udacity conducted an Free Trial Screener experiment. In the experiment, Udacity tested a change where if the student clicked \"start free trial\", they were asked how much time they had available to devote to the course. If the student indicated 5 or more hours per week, they would be taken through the checkout process as usual. If they indicated fewer than 5 hours per week, a message would appear indicating that Udacity courses usually require a greater time commitment for successful completion, and suggesting that the student might like to access the course materials for free. At this point, the student would have the option to continue enrolling in the free trial, or access the course materials for free instead.\n",
    "\n",
    "More details of the project can be found here: https://docs.google.com/document/u/1/d/1aCquhIqsUApgsxQ8-SQBAigFDcfWVVohLEXcV6jWbdI/pub"
   ]
  },
  {
   "cell_type": "markdown",
   "id": "9a819921-0d9f-4344-a33b-5e5a8051a275",
   "metadata": {},
   "source": [
    "## Experiment Design"
   ]
  },
  {
   "cell_type": "markdown",
   "id": "3d6c8101-f747-4e5c-b1e4-bc06946e4a4b",
   "metadata": {},
   "source": [
    "### Unit of Diversion \n",
    "The unit of diversion is a cookie, although if the student enrolls in the free trial, they are tracked by user-id from that point forward. The same user-id cannot enroll in the free trial twice. For users that do not enroll, their user-id is not tracked in the experiment, even if they were signed in when they visited the course overview page."
   ]
  },
  {
   "cell_type": "markdown",
   "id": "9c9a5cfb-b962-4b74-8132-21c29ca7c817",
   "metadata": {},
   "source": [
    "### Hypothesis\n",
    "- Null Hypothesis: There is no difference in control group and treatment group.\n",
    "- Alternative Hypothesis: There is a difference in control group and treatment group."
   ]
  },
  {
   "cell_type": "markdown",
   "id": "b0e6402e-d48c-49e1-b2d5-5a5c35add56e",
   "metadata": {},
   "source": [
    "### Metrics Choice\n",
    "A/B Testing requires two types of metrics: Invariant Metrics and Evaluation Metrics.\n",
    "\n",
    "Available Metrics from Udacity:\n",
    "- Number of cookies: That is, number of unique cookies to view the course overview page. (dmin=3000)\n",
    "- Number of user-ids: That is, number of users who enroll in the free trial. (dmin=50)\n",
    "- Number of clicks: That is, number of unique cookies to click the \"Start free trial\" button (which happens before the free trial screener is trigger). (dmin=240)\n",
    "- Click-through-probability: That is, number of unique cookies to click the \"Start free trial\" button divided by number of unique cookies to view the course overview page. (dmin=0.01)\n",
    "- Gross conversion: That is, number of user-ids to complete checkout and enroll in the free trial divided by number of unique cookies to click the \"Start free trial\" button. (dmin= 0.01)\n",
    "- Retention: That is, number of user-ids to remain enrolled past the 14-day boundary (and thus make at least one payment) divided by number of user-ids to complete checkout. (dmin=0.01)\n",
    "- Net conversion: That is, number of user-ids to remain enrolled past the 14-day boundary (and thus make at least one payment) divided by the number of unique cookies to click the \"Start free trial\" button. (dmin= 0.0075)"
   ]
  },
  {
   "cell_type": "markdown",
   "id": "f1d96c64-749c-4488-adb7-210df7c2895d",
   "metadata": {},
   "source": [
    "#### Invariant Metrics\n",
    "The invariant metrics are metrics that should not change in the experiment. And they will be used for sanity check.\n",
    "\n",
    "The following metrics can be used as invariant metrics:\n",
    "- Number of cookies: this is the population metrics, also it's the metric recorded before the Experiment Change happens.\n",
    "- Number of clicks: it's the metric recorded before the Experiment Change happens.\n",
    "- Click-through-probability: it's the ratio of the above 2 metrics."
   ]
  },
  {
   "cell_type": "markdown",
   "id": "39060508-521b-4b28-bdff-d7e5fa293e30",
   "metadata": {},
   "source": [
    "#### Evaluation Metrics\n",
    "- Gross conversion: used to measure the effect of the experiment change.\n",
    "- Retension: used to measure the effect of the experiment change.\n",
    "- Net conversion: used to measure the effect of the experiment change."
   ]
  },
  {
   "cell_type": "code",
   "execution_count": null,
   "id": "786ba3ee-010c-4417-bcf7-5e76317a9082",
   "metadata": {},
   "outputs": [],
   "source": [
    "import numpy as np\n",
    "import pandas as pd\n",
    "import matplotlib.pyplot as plt\n",
    "import math"
   ]
  },
  {
   "cell_type": "code",
   "execution_count": 2,
   "id": "b0d0089f-ffa6-46df-8b0c-af5a47efa2e6",
   "metadata": {},
   "outputs": [
    {
     "data": {
      "text/html": [
       "<div>\n",
       "<style scoped>\n",
       "    .dataframe tbody tr th:only-of-type {\n",
       "        vertical-align: middle;\n",
       "    }\n",
       "\n",
       "    .dataframe tbody tr th {\n",
       "        vertical-align: top;\n",
       "    }\n",
       "\n",
       "    .dataframe thead th {\n",
       "        text-align: right;\n",
       "    }\n",
       "</style>\n",
       "<table border=\"1\" class=\"dataframe\">\n",
       "  <thead>\n",
       "    <tr style=\"text-align: right;\">\n",
       "      <th></th>\n",
       "      <th>0</th>\n",
       "      <th>1</th>\n",
       "    </tr>\n",
       "  </thead>\n",
       "  <tbody>\n",
       "    <tr>\n",
       "      <th>0</th>\n",
       "      <td>Unique cookies to view course overview page pe...</td>\n",
       "      <td>40000.000000</td>\n",
       "    </tr>\n",
       "    <tr>\n",
       "      <th>1</th>\n",
       "      <td>Unique cookies to click \"Start free trial\" per...</td>\n",
       "      <td>3200.000000</td>\n",
       "    </tr>\n",
       "    <tr>\n",
       "      <th>2</th>\n",
       "      <td>Enrollments per day:</td>\n",
       "      <td>660.000000</td>\n",
       "    </tr>\n",
       "    <tr>\n",
       "      <th>3</th>\n",
       "      <td>Click-through-probability on \"Start free trial\":</td>\n",
       "      <td>0.080000</td>\n",
       "    </tr>\n",
       "    <tr>\n",
       "      <th>4</th>\n",
       "      <td>Probability of enrolling, given click:</td>\n",
       "      <td>0.206250</td>\n",
       "    </tr>\n",
       "    <tr>\n",
       "      <th>5</th>\n",
       "      <td>Probability of payment, given enroll:</td>\n",
       "      <td>0.530000</td>\n",
       "    </tr>\n",
       "    <tr>\n",
       "      <th>6</th>\n",
       "      <td>Probability of payment, given click</td>\n",
       "      <td>0.109313</td>\n",
       "    </tr>\n",
       "  </tbody>\n",
       "</table>\n",
       "</div>"
      ],
      "text/plain": [
       "                                                   0             1\n",
       "0  Unique cookies to view course overview page pe...  40000.000000\n",
       "1  Unique cookies to click \"Start free trial\" per...   3200.000000\n",
       "2                               Enrollments per day:    660.000000\n",
       "3   Click-through-probability on \"Start free trial\":      0.080000\n",
       "4             Probability of enrolling, given click:      0.206250\n",
       "5              Probability of payment, given enroll:      0.530000\n",
       "6                Probability of payment, given click      0.109313"
      ]
     },
     "execution_count": 2,
     "metadata": {},
     "output_type": "execute_result"
    }
   ],
   "source": [
    "# import baseline values\n",
    "baseline = pd.read_csv('Project Baseline Values.csv', header=None)\n",
    "baseline"
   ]
  },
  {
   "cell_type": "code",
   "execution_count": 3,
   "id": "3ccc0d98-2db6-4ce9-9766-335419bd0853",
   "metadata": {},
   "outputs": [
    {
     "data": {
      "text/html": [
       "<div>\n",
       "<style scoped>\n",
       "    .dataframe tbody tr th:only-of-type {\n",
       "        vertical-align: middle;\n",
       "    }\n",
       "\n",
       "    .dataframe tbody tr th {\n",
       "        vertical-align: top;\n",
       "    }\n",
       "\n",
       "    .dataframe thead th {\n",
       "        text-align: right;\n",
       "    }\n",
       "</style>\n",
       "<table border=\"1\" class=\"dataframe\">\n",
       "  <thead>\n",
       "    <tr style=\"text-align: right;\">\n",
       "      <th></th>\n",
       "      <th>metric</th>\n",
       "      <th>value</th>\n",
       "      <th>dmin</th>\n",
       "    </tr>\n",
       "  </thead>\n",
       "  <tbody>\n",
       "    <tr>\n",
       "      <th>0</th>\n",
       "      <td>cookies</td>\n",
       "      <td>40000.000000</td>\n",
       "      <td>3000.0000</td>\n",
       "    </tr>\n",
       "    <tr>\n",
       "      <th>1</th>\n",
       "      <td>clicks</td>\n",
       "      <td>3200.000000</td>\n",
       "      <td>240.0000</td>\n",
       "    </tr>\n",
       "    <tr>\n",
       "      <th>2</th>\n",
       "      <td>users</td>\n",
       "      <td>660.000000</td>\n",
       "      <td>50.0000</td>\n",
       "    </tr>\n",
       "    <tr>\n",
       "      <th>3</th>\n",
       "      <td>CTR</td>\n",
       "      <td>0.080000</td>\n",
       "      <td>0.0100</td>\n",
       "    </tr>\n",
       "    <tr>\n",
       "      <th>4</th>\n",
       "      <td>gross_conversion</td>\n",
       "      <td>0.206250</td>\n",
       "      <td>0.0100</td>\n",
       "    </tr>\n",
       "    <tr>\n",
       "      <th>5</th>\n",
       "      <td>retention</td>\n",
       "      <td>0.530000</td>\n",
       "      <td>0.0100</td>\n",
       "    </tr>\n",
       "    <tr>\n",
       "      <th>6</th>\n",
       "      <td>net_conversion</td>\n",
       "      <td>0.109313</td>\n",
       "      <td>0.0075</td>\n",
       "    </tr>\n",
       "  </tbody>\n",
       "</table>\n",
       "</div>"
      ],
      "text/plain": [
       "             metric         value       dmin\n",
       "0           cookies  40000.000000  3000.0000\n",
       "1            clicks   3200.000000   240.0000\n",
       "2             users    660.000000    50.0000\n",
       "3               CTR      0.080000     0.0100\n",
       "4  gross_conversion      0.206250     0.0100\n",
       "5         retention      0.530000     0.0100\n",
       "6    net_conversion      0.109313     0.0075"
      ]
     },
     "execution_count": 3,
     "metadata": {},
     "output_type": "execute_result"
    }
   ],
   "source": [
    "# update baseline table\n",
    "baseline.columns = ['metric', 'value']\n",
    "baseline['metric'] = ['cookies', 'clicks', 'users','CTR','gross_conversion','retention','net_conversion']\n",
    "baseline['dmin'] = [3000, 240, 50, 0.01, 0.01, 0.01, 0.0075]\n",
    "baseline"
   ]
  },
  {
   "cell_type": "code",
   "execution_count": 4,
   "id": "193bd49b-dfd3-4afa-b24b-79f1d94dabdc",
   "metadata": {},
   "outputs": [],
   "source": [
    "# for a sample size of 5,000 cookies, calculate the corresponding scaled value\n",
    "baseline['scaled_value'] = np.nan\n",
    "scale = 5000/40000\n",
    "\n",
    "for i in range(3):\n",
    "    baseline.loc[i, 'scaled_value'] = scale * baseline.loc[i, 'value']"
   ]
  },
  {
   "cell_type": "code",
   "execution_count": 5,
   "id": "a121a103-6cfd-448e-a7f3-36bf06ac1ba7",
   "metadata": {},
   "outputs": [
    {
     "data": {
      "text/html": [
       "<div>\n",
       "<style scoped>\n",
       "    .dataframe tbody tr th:only-of-type {\n",
       "        vertical-align: middle;\n",
       "    }\n",
       "\n",
       "    .dataframe tbody tr th {\n",
       "        vertical-align: top;\n",
       "    }\n",
       "\n",
       "    .dataframe thead th {\n",
       "        text-align: right;\n",
       "    }\n",
       "</style>\n",
       "<table border=\"1\" class=\"dataframe\">\n",
       "  <thead>\n",
       "    <tr style=\"text-align: right;\">\n",
       "      <th></th>\n",
       "      <th>metric</th>\n",
       "      <th>value</th>\n",
       "      <th>dmin</th>\n",
       "      <th>scaled_value</th>\n",
       "    </tr>\n",
       "  </thead>\n",
       "  <tbody>\n",
       "    <tr>\n",
       "      <th>0</th>\n",
       "      <td>cookies</td>\n",
       "      <td>40000.000000</td>\n",
       "      <td>3000.0000</td>\n",
       "      <td>5000.0</td>\n",
       "    </tr>\n",
       "    <tr>\n",
       "      <th>1</th>\n",
       "      <td>clicks</td>\n",
       "      <td>3200.000000</td>\n",
       "      <td>240.0000</td>\n",
       "      <td>400.0</td>\n",
       "    </tr>\n",
       "    <tr>\n",
       "      <th>2</th>\n",
       "      <td>users</td>\n",
       "      <td>660.000000</td>\n",
       "      <td>50.0000</td>\n",
       "      <td>82.5</td>\n",
       "    </tr>\n",
       "    <tr>\n",
       "      <th>3</th>\n",
       "      <td>CTR</td>\n",
       "      <td>0.080000</td>\n",
       "      <td>0.0100</td>\n",
       "      <td>NaN</td>\n",
       "    </tr>\n",
       "    <tr>\n",
       "      <th>4</th>\n",
       "      <td>gross_conversion</td>\n",
       "      <td>0.206250</td>\n",
       "      <td>0.0100</td>\n",
       "      <td>NaN</td>\n",
       "    </tr>\n",
       "    <tr>\n",
       "      <th>5</th>\n",
       "      <td>retention</td>\n",
       "      <td>0.530000</td>\n",
       "      <td>0.0100</td>\n",
       "      <td>NaN</td>\n",
       "    </tr>\n",
       "    <tr>\n",
       "      <th>6</th>\n",
       "      <td>net_conversion</td>\n",
       "      <td>0.109313</td>\n",
       "      <td>0.0075</td>\n",
       "      <td>NaN</td>\n",
       "    </tr>\n",
       "  </tbody>\n",
       "</table>\n",
       "</div>"
      ],
      "text/plain": [
       "             metric         value       dmin  scaled_value\n",
       "0           cookies  40000.000000  3000.0000        5000.0\n",
       "1            clicks   3200.000000   240.0000         400.0\n",
       "2             users    660.000000    50.0000          82.5\n",
       "3               CTR      0.080000     0.0100           NaN\n",
       "4  gross_conversion      0.206250     0.0100           NaN\n",
       "5         retention      0.530000     0.0100           NaN\n",
       "6    net_conversion      0.109313     0.0075           NaN"
      ]
     },
     "execution_count": 5,
     "metadata": {},
     "output_type": "execute_result"
    }
   ],
   "source": [
    "baseline"
   ]
  },
  {
   "cell_type": "markdown",
   "id": "957d53f8-b49e-48fe-83b5-fd0fd9221d87",
   "metadata": {},
   "source": [
    "#### Standard Error\n",
    "To calculate the standard error of gross conversion, retention, and net conversion, assume the ditsributions of these metrics are approximately normal (binomial distribution). In binomial distribution, the standard error = sqrt(p(1-p)/n)."
   ]
  },
  {
   "cell_type": "code",
   "execution_count": 6,
   "id": "f8ed74a5-9259-43aa-a7c4-d7c3ddcb19b6",
   "metadata": {},
   "outputs": [],
   "source": [
    "baseline['standard_error'] = np.nan\n",
    "for i,j in zip([1,2,1],[4,5,6]):\n",
    "    p = baseline.loc[j, 'value']\n",
    "    n = baseline.loc[i, 'scaled_value']\n",
    "    baseline.loc[j, 'standard_error'] = math.sqrt(p*(1-p)/n)"
   ]
  },
  {
   "cell_type": "code",
   "execution_count": 7,
   "id": "050b6e84-81c3-4738-939f-31589f34daca",
   "metadata": {},
   "outputs": [
    {
     "data": {
      "text/html": [
       "<div>\n",
       "<style scoped>\n",
       "    .dataframe tbody tr th:only-of-type {\n",
       "        vertical-align: middle;\n",
       "    }\n",
       "\n",
       "    .dataframe tbody tr th {\n",
       "        vertical-align: top;\n",
       "    }\n",
       "\n",
       "    .dataframe thead th {\n",
       "        text-align: right;\n",
       "    }\n",
       "</style>\n",
       "<table border=\"1\" class=\"dataframe\">\n",
       "  <thead>\n",
       "    <tr style=\"text-align: right;\">\n",
       "      <th></th>\n",
       "      <th>metric</th>\n",
       "      <th>value</th>\n",
       "      <th>dmin</th>\n",
       "      <th>scaled_value</th>\n",
       "      <th>standard_error</th>\n",
       "    </tr>\n",
       "  </thead>\n",
       "  <tbody>\n",
       "    <tr>\n",
       "      <th>0</th>\n",
       "      <td>cookies</td>\n",
       "      <td>40000.000000</td>\n",
       "      <td>3000.0000</td>\n",
       "      <td>5000.0</td>\n",
       "      <td>NaN</td>\n",
       "    </tr>\n",
       "    <tr>\n",
       "      <th>1</th>\n",
       "      <td>clicks</td>\n",
       "      <td>3200.000000</td>\n",
       "      <td>240.0000</td>\n",
       "      <td>400.0</td>\n",
       "      <td>NaN</td>\n",
       "    </tr>\n",
       "    <tr>\n",
       "      <th>2</th>\n",
       "      <td>users</td>\n",
       "      <td>660.000000</td>\n",
       "      <td>50.0000</td>\n",
       "      <td>82.5</td>\n",
       "      <td>NaN</td>\n",
       "    </tr>\n",
       "    <tr>\n",
       "      <th>3</th>\n",
       "      <td>CTR</td>\n",
       "      <td>0.080000</td>\n",
       "      <td>0.0100</td>\n",
       "      <td>NaN</td>\n",
       "      <td>NaN</td>\n",
       "    </tr>\n",
       "    <tr>\n",
       "      <th>4</th>\n",
       "      <td>gross_conversion</td>\n",
       "      <td>0.206250</td>\n",
       "      <td>0.0100</td>\n",
       "      <td>NaN</td>\n",
       "      <td>0.020231</td>\n",
       "    </tr>\n",
       "    <tr>\n",
       "      <th>5</th>\n",
       "      <td>retention</td>\n",
       "      <td>0.530000</td>\n",
       "      <td>0.0100</td>\n",
       "      <td>NaN</td>\n",
       "      <td>0.054949</td>\n",
       "    </tr>\n",
       "    <tr>\n",
       "      <th>6</th>\n",
       "      <td>net_conversion</td>\n",
       "      <td>0.109313</td>\n",
       "      <td>0.0075</td>\n",
       "      <td>NaN</td>\n",
       "      <td>0.015602</td>\n",
       "    </tr>\n",
       "  </tbody>\n",
       "</table>\n",
       "</div>"
      ],
      "text/plain": [
       "             metric         value       dmin  scaled_value  standard_error\n",
       "0           cookies  40000.000000  3000.0000        5000.0             NaN\n",
       "1            clicks   3200.000000   240.0000         400.0             NaN\n",
       "2             users    660.000000    50.0000          82.5             NaN\n",
       "3               CTR      0.080000     0.0100           NaN             NaN\n",
       "4  gross_conversion      0.206250     0.0100           NaN        0.020231\n",
       "5         retention      0.530000     0.0100           NaN        0.054949\n",
       "6    net_conversion      0.109313     0.0075           NaN        0.015602"
      ]
     },
     "execution_count": 7,
     "metadata": {},
     "output_type": "execute_result"
    }
   ],
   "source": [
    "baseline"
   ]
  },
  {
   "cell_type": "markdown",
   "id": "c1061186-393a-45f8-9fd1-295d4b19c0d6",
   "metadata": {},
   "source": [
    "### Sizing"
   ]
  },
  {
   "cell_type": "markdown",
   "id": "bc73801e-1ab0-4560-ae4b-a24bc9c5361f",
   "metadata": {},
   "source": [
    "#### Sample Size\n",
    "Here use an alpha of 0.05 and a beta of 0.2, how many pageviews total (across both groups) needed to collect to adequately power the experiment?\n",
    "\n",
    "You could use Evan's Awesome A/B Tools (https://www.evanmiller.org/ab-testing/sample-size.html) to calculate the minimum sample size.\n",
    "\n",
    "Key Inputs for Sample Size Calculation:\n",
    "- Baseline Conversion Rate (\n",
    "𝑝\n",
    "1\n",
    " ): The current conversion rate (or other metric) of the control group.\n",
    "- Minimum Detectable Effect (MDE): The smallest change in the metric (e.g., conversion rate) that you want to detect. It is usually expressed as a percentage increase or absolute difference from the baseline rate.\n",
    "- Significance Level (\n",
    "𝛼\n",
    "): The probability of rejecting the null hypothesis when it is actually true (Type I error). Common values are 0.05 (5%) or 0.01 (1%).\n",
    "- Statistical Power (\n",
    "1\n",
    "−\n",
    "𝛽\n",
    "): The probability of correctly detecting a true effect (1 minus the Type II error rate). Commonly used values for power are 0.8 (80%) or 0.9 (90%)."
   ]
  },
  {
   "cell_type": "markdown",
   "id": "14e6a3a2-70d2-4010-b7f8-ca958e4a1cad",
   "metadata": {},
   "source": [
    "<img src=\"image.png\">"
   ]
  },
  {
   "cell_type": "code",
   "execution_count": 8,
   "id": "9724ce0d-0eba-475e-982c-77a38696926e",
   "metadata": {},
   "outputs": [],
   "source": [
    "import scipy.stats as stats\n",
    "import math\n",
    "\n",
    "def calculate_sample_size(baseline_rate, mde, significance_level=0.05, power=0.8):\n",
    "    \n",
    "    # Convert significance level and power to Z-scores\n",
    "    alpha_z = stats.norm.ppf(1 - significance_level / 2)  # two-tailed test\n",
    "    beta_z = stats.norm.ppf(power)\n",
    "\n",
    "    # Calculate the average conversion rate\n",
    "    p1 = baseline_rate\n",
    "    p2 = baseline_rate + mde\n",
    "    pooled_prob = (p1 + p2) / 2\n",
    "\n",
    "    # Calculate the sample size for each group\n",
    "    numerator = (alpha_z * math.sqrt(2 * pooled_prob * (1 - pooled_prob)) + \n",
    "                 beta_z * math.sqrt(p1 * (1 - p1) + p2 * (1 - p2))) ** 2\n",
    "    denominator = (p2 - p1) ** 2\n",
    "    sample_size_per_group = numerator / denominator\n",
    "\n",
    "    return math.ceil(sample_size_per_group)"
   ]
  },
  {
   "cell_type": "code",
   "execution_count": 9,
   "id": "d0ad1abc-2a52-4b83-b62d-db7435f49410",
   "metadata": {},
   "outputs": [],
   "source": [
    "baseline['sample_size'] = np.nan\n",
    "for i in [4,5,6]:\n",
    "    baseline_rate = baseline.loc[i, 'value']\n",
    "    mde = baseline.loc[i, 'dmin']\n",
    "    baseline.loc[i, 'sample_size'] = calculate_sample_size(baseline_rate, mde, significance_level=0.05, power=0.8)"
   ]
  },
  {
   "cell_type": "code",
   "execution_count": 10,
   "id": "d8a03cd6-745b-4bc1-be78-0e0aaacd2fa8",
   "metadata": {},
   "outputs": [
    {
     "data": {
      "text/html": [
       "<div>\n",
       "<style scoped>\n",
       "    .dataframe tbody tr th:only-of-type {\n",
       "        vertical-align: middle;\n",
       "    }\n",
       "\n",
       "    .dataframe tbody tr th {\n",
       "        vertical-align: top;\n",
       "    }\n",
       "\n",
       "    .dataframe thead th {\n",
       "        text-align: right;\n",
       "    }\n",
       "</style>\n",
       "<table border=\"1\" class=\"dataframe\">\n",
       "  <thead>\n",
       "    <tr style=\"text-align: right;\">\n",
       "      <th></th>\n",
       "      <th>metric</th>\n",
       "      <th>value</th>\n",
       "      <th>dmin</th>\n",
       "      <th>scaled_value</th>\n",
       "      <th>standard_error</th>\n",
       "      <th>sample_size</th>\n",
       "    </tr>\n",
       "  </thead>\n",
       "  <tbody>\n",
       "    <tr>\n",
       "      <th>0</th>\n",
       "      <td>cookies</td>\n",
       "      <td>40000.000000</td>\n",
       "      <td>3000.0000</td>\n",
       "      <td>5000.0</td>\n",
       "      <td>NaN</td>\n",
       "      <td>NaN</td>\n",
       "    </tr>\n",
       "    <tr>\n",
       "      <th>1</th>\n",
       "      <td>clicks</td>\n",
       "      <td>3200.000000</td>\n",
       "      <td>240.0000</td>\n",
       "      <td>400.0</td>\n",
       "      <td>NaN</td>\n",
       "      <td>NaN</td>\n",
       "    </tr>\n",
       "    <tr>\n",
       "      <th>2</th>\n",
       "      <td>users</td>\n",
       "      <td>660.000000</td>\n",
       "      <td>50.0000</td>\n",
       "      <td>82.5</td>\n",
       "      <td>NaN</td>\n",
       "      <td>NaN</td>\n",
       "    </tr>\n",
       "    <tr>\n",
       "      <th>3</th>\n",
       "      <td>CTR</td>\n",
       "      <td>0.080000</td>\n",
       "      <td>0.0100</td>\n",
       "      <td>NaN</td>\n",
       "      <td>NaN</td>\n",
       "      <td>NaN</td>\n",
       "    </tr>\n",
       "    <tr>\n",
       "      <th>4</th>\n",
       "      <td>gross_conversion</td>\n",
       "      <td>0.206250</td>\n",
       "      <td>0.0100</td>\n",
       "      <td>NaN</td>\n",
       "      <td>0.020231</td>\n",
       "      <td>26155.0</td>\n",
       "    </tr>\n",
       "    <tr>\n",
       "      <th>5</th>\n",
       "      <td>retention</td>\n",
       "      <td>0.530000</td>\n",
       "      <td>0.0100</td>\n",
       "      <td>NaN</td>\n",
       "      <td>0.054949</td>\n",
       "      <td>39051.0</td>\n",
       "    </tr>\n",
       "    <tr>\n",
       "      <th>6</th>\n",
       "      <td>net_conversion</td>\n",
       "      <td>0.109313</td>\n",
       "      <td>0.0075</td>\n",
       "      <td>NaN</td>\n",
       "      <td>0.015602</td>\n",
       "      <td>27984.0</td>\n",
       "    </tr>\n",
       "  </tbody>\n",
       "</table>\n",
       "</div>"
      ],
      "text/plain": [
       "             metric         value       dmin  scaled_value  standard_error  \\\n",
       "0           cookies  40000.000000  3000.0000        5000.0             NaN   \n",
       "1            clicks   3200.000000   240.0000         400.0             NaN   \n",
       "2             users    660.000000    50.0000          82.5             NaN   \n",
       "3               CTR      0.080000     0.0100           NaN             NaN   \n",
       "4  gross_conversion      0.206250     0.0100           NaN        0.020231   \n",
       "5         retention      0.530000     0.0100           NaN        0.054949   \n",
       "6    net_conversion      0.109313     0.0075           NaN        0.015602   \n",
       "\n",
       "   sample_size  \n",
       "0          NaN  \n",
       "1          NaN  \n",
       "2          NaN  \n",
       "3          NaN  \n",
       "4      26155.0  \n",
       "5      39051.0  \n",
       "6      27984.0  "
      ]
     },
     "execution_count": 10,
     "metadata": {},
     "output_type": "execute_result"
    }
   ],
   "source": [
    "baseline"
   ]
  },
  {
   "cell_type": "code",
   "execution_count": 11,
   "id": "e7e2abc1-4027-44b5-ae1d-9b0cb018c5ad",
   "metadata": {},
   "outputs": [],
   "source": [
    "# For gross conversion\n",
    "sample_size = 26155\n",
    "n_group = 2 # numer of groups\n",
    "total_sample = sample_size * n_group\n",
    "\n",
    "CTR = 0.08 # click through rate\n",
    "pageviews1 = total_sample / CTR"
   ]
  },
  {
   "cell_type": "code",
   "execution_count": 12,
   "id": "df334652-cbd6-4551-a94d-0a89324e423e",
   "metadata": {},
   "outputs": [],
   "source": [
    "# For retention\n",
    "sample_size = 39051\n",
    "n_group = 2 # numer of groups\n",
    "total_sample = sample_size * n_group\n",
    "\n",
    "user_per_cookie = 660/40000\n",
    "pageviews2 = total_sample / user_per_cookie"
   ]
  },
  {
   "cell_type": "code",
   "execution_count": 13,
   "id": "ce1d36a2-0f16-4b6c-bceb-03e77859dd02",
   "metadata": {},
   "outputs": [],
   "source": [
    "# For net conversion\n",
    "sample_size = 27984\n",
    "n_group = 2 # numer of groups\n",
    "total_sample = sample_size * n_group\n",
    "\n",
    "CTR = 0.08 # click through rate\n",
    "pageviews3 = total_sample / CTR"
   ]
  },
  {
   "cell_type": "code",
   "execution_count": 14,
   "id": "df78cc00-03d4-44ca-a4f0-0a34bff5eb15",
   "metadata": {},
   "outputs": [
    {
     "data": {
      "text/html": [
       "<div>\n",
       "<style scoped>\n",
       "    .dataframe tbody tr th:only-of-type {\n",
       "        vertical-align: middle;\n",
       "    }\n",
       "\n",
       "    .dataframe tbody tr th {\n",
       "        vertical-align: top;\n",
       "    }\n",
       "\n",
       "    .dataframe thead th {\n",
       "        text-align: right;\n",
       "    }\n",
       "</style>\n",
       "<table border=\"1\" class=\"dataframe\">\n",
       "  <thead>\n",
       "    <tr style=\"text-align: right;\">\n",
       "      <th></th>\n",
       "      <th>metric</th>\n",
       "      <th>value</th>\n",
       "      <th>dmin</th>\n",
       "      <th>scaled_value</th>\n",
       "      <th>standard_error</th>\n",
       "      <th>sample_size</th>\n",
       "      <th>pageviews</th>\n",
       "    </tr>\n",
       "  </thead>\n",
       "  <tbody>\n",
       "    <tr>\n",
       "      <th>0</th>\n",
       "      <td>cookies</td>\n",
       "      <td>40000.000000</td>\n",
       "      <td>3000.0000</td>\n",
       "      <td>5000.0</td>\n",
       "      <td>NaN</td>\n",
       "      <td>NaN</td>\n",
       "      <td>NaN</td>\n",
       "    </tr>\n",
       "    <tr>\n",
       "      <th>1</th>\n",
       "      <td>clicks</td>\n",
       "      <td>3200.000000</td>\n",
       "      <td>240.0000</td>\n",
       "      <td>400.0</td>\n",
       "      <td>NaN</td>\n",
       "      <td>NaN</td>\n",
       "      <td>NaN</td>\n",
       "    </tr>\n",
       "    <tr>\n",
       "      <th>2</th>\n",
       "      <td>users</td>\n",
       "      <td>660.000000</td>\n",
       "      <td>50.0000</td>\n",
       "      <td>82.5</td>\n",
       "      <td>NaN</td>\n",
       "      <td>NaN</td>\n",
       "      <td>NaN</td>\n",
       "    </tr>\n",
       "    <tr>\n",
       "      <th>3</th>\n",
       "      <td>CTR</td>\n",
       "      <td>0.080000</td>\n",
       "      <td>0.0100</td>\n",
       "      <td>NaN</td>\n",
       "      <td>NaN</td>\n",
       "      <td>NaN</td>\n",
       "      <td>NaN</td>\n",
       "    </tr>\n",
       "    <tr>\n",
       "      <th>4</th>\n",
       "      <td>gross_conversion</td>\n",
       "      <td>0.206250</td>\n",
       "      <td>0.0100</td>\n",
       "      <td>NaN</td>\n",
       "      <td>0.020231</td>\n",
       "      <td>26155.0</td>\n",
       "      <td>6.538750e+05</td>\n",
       "    </tr>\n",
       "    <tr>\n",
       "      <th>5</th>\n",
       "      <td>retention</td>\n",
       "      <td>0.530000</td>\n",
       "      <td>0.0100</td>\n",
       "      <td>NaN</td>\n",
       "      <td>0.054949</td>\n",
       "      <td>39051.0</td>\n",
       "      <td>4.733455e+06</td>\n",
       "    </tr>\n",
       "    <tr>\n",
       "      <th>6</th>\n",
       "      <td>net_conversion</td>\n",
       "      <td>0.109313</td>\n",
       "      <td>0.0075</td>\n",
       "      <td>NaN</td>\n",
       "      <td>0.015602</td>\n",
       "      <td>27984.0</td>\n",
       "      <td>6.996000e+05</td>\n",
       "    </tr>\n",
       "  </tbody>\n",
       "</table>\n",
       "</div>"
      ],
      "text/plain": [
       "             metric         value       dmin  scaled_value  standard_error  \\\n",
       "0           cookies  40000.000000  3000.0000        5000.0             NaN   \n",
       "1            clicks   3200.000000   240.0000         400.0             NaN   \n",
       "2             users    660.000000    50.0000          82.5             NaN   \n",
       "3               CTR      0.080000     0.0100           NaN             NaN   \n",
       "4  gross_conversion      0.206250     0.0100           NaN        0.020231   \n",
       "5         retention      0.530000     0.0100           NaN        0.054949   \n",
       "6    net_conversion      0.109313     0.0075           NaN        0.015602   \n",
       "\n",
       "   sample_size     pageviews  \n",
       "0          NaN           NaN  \n",
       "1          NaN           NaN  \n",
       "2          NaN           NaN  \n",
       "3          NaN           NaN  \n",
       "4      26155.0  6.538750e+05  \n",
       "5      39051.0  4.733455e+06  \n",
       "6      27984.0  6.996000e+05  "
      ]
     },
     "execution_count": 14,
     "metadata": {},
     "output_type": "execute_result"
    }
   ],
   "source": [
    "baseline['pageviews'] = np.nan\n",
    "baseline.loc[4, 'pageviews'] = pageviews1\n",
    "baseline.loc[5, 'pageviews'] = pageviews2\n",
    "baseline.loc[6, 'pageviews'] = pageviews3\n",
    "baseline"
   ]
  },
  {
   "cell_type": "markdown",
   "id": "ee930c40-f324-4bd2-a2a1-331909600b6b",
   "metadata": {},
   "source": [
    "Given the reuslts above, to test all 3 metrics, we need 4,733,455 pageviews in total."
   ]
  },
  {
   "cell_type": "markdown",
   "id": "ddec8b4c-da82-410e-b02a-7c81ed3d5368",
   "metadata": {},
   "source": [
    "#### Duration and Exposure\n",
    "Considering we only have 40,000 pageviews (unique cookies) per day, if we assign 50% daily traffic to this experiment, how many days needed to run the experiment for each metric?"
   ]
  },
  {
   "cell_type": "code",
   "execution_count": 15,
   "id": "7b06836f-a773-476f-b7a6-0ac01bea8c74",
   "metadata": {},
   "outputs": [
    {
     "data": {
      "text/html": [
       "<div>\n",
       "<style scoped>\n",
       "    .dataframe tbody tr th:only-of-type {\n",
       "        vertical-align: middle;\n",
       "    }\n",
       "\n",
       "    .dataframe tbody tr th {\n",
       "        vertical-align: top;\n",
       "    }\n",
       "\n",
       "    .dataframe thead th {\n",
       "        text-align: right;\n",
       "    }\n",
       "</style>\n",
       "<table border=\"1\" class=\"dataframe\">\n",
       "  <thead>\n",
       "    <tr style=\"text-align: right;\">\n",
       "      <th></th>\n",
       "      <th>metric</th>\n",
       "      <th>value</th>\n",
       "      <th>dmin</th>\n",
       "      <th>scaled_value</th>\n",
       "      <th>standard_error</th>\n",
       "      <th>sample_size</th>\n",
       "      <th>pageviews</th>\n",
       "      <th>duration</th>\n",
       "    </tr>\n",
       "  </thead>\n",
       "  <tbody>\n",
       "    <tr>\n",
       "      <th>0</th>\n",
       "      <td>cookies</td>\n",
       "      <td>40000.000000</td>\n",
       "      <td>3000.0000</td>\n",
       "      <td>5000.0</td>\n",
       "      <td>NaN</td>\n",
       "      <td>NaN</td>\n",
       "      <td>NaN</td>\n",
       "      <td>NaN</td>\n",
       "    </tr>\n",
       "    <tr>\n",
       "      <th>1</th>\n",
       "      <td>clicks</td>\n",
       "      <td>3200.000000</td>\n",
       "      <td>240.0000</td>\n",
       "      <td>400.0</td>\n",
       "      <td>NaN</td>\n",
       "      <td>NaN</td>\n",
       "      <td>NaN</td>\n",
       "      <td>NaN</td>\n",
       "    </tr>\n",
       "    <tr>\n",
       "      <th>2</th>\n",
       "      <td>users</td>\n",
       "      <td>660.000000</td>\n",
       "      <td>50.0000</td>\n",
       "      <td>82.5</td>\n",
       "      <td>NaN</td>\n",
       "      <td>NaN</td>\n",
       "      <td>NaN</td>\n",
       "      <td>NaN</td>\n",
       "    </tr>\n",
       "    <tr>\n",
       "      <th>3</th>\n",
       "      <td>CTR</td>\n",
       "      <td>0.080000</td>\n",
       "      <td>0.0100</td>\n",
       "      <td>NaN</td>\n",
       "      <td>NaN</td>\n",
       "      <td>NaN</td>\n",
       "      <td>NaN</td>\n",
       "      <td>NaN</td>\n",
       "    </tr>\n",
       "    <tr>\n",
       "      <th>4</th>\n",
       "      <td>gross_conversion</td>\n",
       "      <td>0.206250</td>\n",
       "      <td>0.0100</td>\n",
       "      <td>NaN</td>\n",
       "      <td>0.020231</td>\n",
       "      <td>26155.0</td>\n",
       "      <td>6.538750e+05</td>\n",
       "      <td>33.0</td>\n",
       "    </tr>\n",
       "    <tr>\n",
       "      <th>5</th>\n",
       "      <td>retention</td>\n",
       "      <td>0.530000</td>\n",
       "      <td>0.0100</td>\n",
       "      <td>NaN</td>\n",
       "      <td>0.054949</td>\n",
       "      <td>39051.0</td>\n",
       "      <td>4.733455e+06</td>\n",
       "      <td>237.0</td>\n",
       "    </tr>\n",
       "    <tr>\n",
       "      <th>6</th>\n",
       "      <td>net_conversion</td>\n",
       "      <td>0.109313</td>\n",
       "      <td>0.0075</td>\n",
       "      <td>NaN</td>\n",
       "      <td>0.015602</td>\n",
       "      <td>27984.0</td>\n",
       "      <td>6.996000e+05</td>\n",
       "      <td>35.0</td>\n",
       "    </tr>\n",
       "  </tbody>\n",
       "</table>\n",
       "</div>"
      ],
      "text/plain": [
       "             metric         value       dmin  scaled_value  standard_error  \\\n",
       "0           cookies  40000.000000  3000.0000        5000.0             NaN   \n",
       "1            clicks   3200.000000   240.0000         400.0             NaN   \n",
       "2             users    660.000000    50.0000          82.5             NaN   \n",
       "3               CTR      0.080000     0.0100           NaN             NaN   \n",
       "4  gross_conversion      0.206250     0.0100           NaN        0.020231   \n",
       "5         retention      0.530000     0.0100           NaN        0.054949   \n",
       "6    net_conversion      0.109313     0.0075           NaN        0.015602   \n",
       "\n",
       "   sample_size     pageviews  duration  \n",
       "0          NaN           NaN       NaN  \n",
       "1          NaN           NaN       NaN  \n",
       "2          NaN           NaN       NaN  \n",
       "3          NaN           NaN       NaN  \n",
       "4      26155.0  6.538750e+05      33.0  \n",
       "5      39051.0  4.733455e+06     237.0  \n",
       "6      27984.0  6.996000e+05      35.0  "
      ]
     },
     "execution_count": 15,
     "metadata": {},
     "output_type": "execute_result"
    }
   ],
   "source": [
    "baseline['duration'] = np.nan\n",
    "baseline.loc[4, 'duration'] = math.ceil(baseline.loc[4, 'pageviews']/(40000*0.5))\n",
    "baseline.loc[5, 'duration'] = math.ceil(baseline.loc[5, 'pageviews']/(40000*0.5))\n",
    "baseline.loc[6, 'duration'] = math.ceil(baseline.loc[6, 'pageviews']/(40000*0.5))\n",
    "baseline"
   ]
  },
  {
   "cell_type": "markdown",
   "id": "170f0dd1-5749-4d4c-91d5-af4bbac6b9b3",
   "metadata": {},
   "source": [
    "For retention, it requires a munimum of 237 days, which is way too long. Hence, we have to abandon this metric. \n",
    "\n",
    "As a result, we will run the experiment for 35 days with 50% daily traffic for gross conversion and net conversion."
   ]
  },
  {
   "cell_type": "markdown",
   "id": "6964522d-e8fb-47e5-9750-5e7ed9cf0d88",
   "metadata": {},
   "source": [
    "## Results Analysis\n",
    "After running the experiment, we have 2 datasets, one for the experiment group, and one for the control group.\n",
    "\n",
    "The meaning of each column is:\n",
    "\n",
    "- Pageviews: Number of unique cookies to view the course overview page that day.\n",
    "- Clicks: Number of unique cookies to click the course overview page that day.\n",
    "- Enrollments: Number of user-ids to enroll in the free trial that day.\n",
    "- Payments: Number of user-ids who who enrolled on that day to remain enrolled for 14 days and thus make a payment. (Note that the date for this column is the start date, that is, the date of enrollment, rather than the date of the payment. The payment happened 14 days later. Because of this, the enrollments and payments are tracked for 14 fewer days than the other columns.)"
   ]
  },
  {
   "cell_type": "code",
   "execution_count": 16,
   "id": "c4da255a-6cf4-4a56-b0c6-f59358ec01d3",
   "metadata": {},
   "outputs": [],
   "source": [
    "control = pd.read_csv('Project Results - Control.csv')\n",
    "experiment = pd.read_csv('Project Results - Experiment.csv')"
   ]
  },
  {
   "cell_type": "code",
   "execution_count": 17,
   "id": "1d89801b-3ffe-4b3f-b303-53257afbf5f8",
   "metadata": {},
   "outputs": [
    {
     "data": {
      "text/plain": [
       "37"
      ]
     },
     "execution_count": 17,
     "metadata": {},
     "output_type": "execute_result"
    }
   ],
   "source": [
    "len(control)"
   ]
  },
  {
   "cell_type": "code",
   "execution_count": 18,
   "id": "44c59f17-9cc0-47ca-ac0a-6b16d68c1564",
   "metadata": {},
   "outputs": [
    {
     "data": {
      "text/html": [
       "<div>\n",
       "<style scoped>\n",
       "    .dataframe tbody tr th:only-of-type {\n",
       "        vertical-align: middle;\n",
       "    }\n",
       "\n",
       "    .dataframe tbody tr th {\n",
       "        vertical-align: top;\n",
       "    }\n",
       "\n",
       "    .dataframe thead th {\n",
       "        text-align: right;\n",
       "    }\n",
       "</style>\n",
       "<table border=\"1\" class=\"dataframe\">\n",
       "  <thead>\n",
       "    <tr style=\"text-align: right;\">\n",
       "      <th></th>\n",
       "      <th>Date</th>\n",
       "      <th>Pageviews</th>\n",
       "      <th>Clicks</th>\n",
       "      <th>Enrollments</th>\n",
       "      <th>Payments</th>\n",
       "    </tr>\n",
       "  </thead>\n",
       "  <tbody>\n",
       "    <tr>\n",
       "      <th>0</th>\n",
       "      <td>Sat, Oct 11</td>\n",
       "      <td>7723</td>\n",
       "      <td>687</td>\n",
       "      <td>134.0</td>\n",
       "      <td>70.0</td>\n",
       "    </tr>\n",
       "    <tr>\n",
       "      <th>1</th>\n",
       "      <td>Sun, Oct 12</td>\n",
       "      <td>9102</td>\n",
       "      <td>779</td>\n",
       "      <td>147.0</td>\n",
       "      <td>70.0</td>\n",
       "    </tr>\n",
       "    <tr>\n",
       "      <th>2</th>\n",
       "      <td>Mon, Oct 13</td>\n",
       "      <td>10511</td>\n",
       "      <td>909</td>\n",
       "      <td>167.0</td>\n",
       "      <td>95.0</td>\n",
       "    </tr>\n",
       "    <tr>\n",
       "      <th>3</th>\n",
       "      <td>Tue, Oct 14</td>\n",
       "      <td>9871</td>\n",
       "      <td>836</td>\n",
       "      <td>156.0</td>\n",
       "      <td>105.0</td>\n",
       "    </tr>\n",
       "    <tr>\n",
       "      <th>4</th>\n",
       "      <td>Wed, Oct 15</td>\n",
       "      <td>10014</td>\n",
       "      <td>837</td>\n",
       "      <td>163.0</td>\n",
       "      <td>64.0</td>\n",
       "    </tr>\n",
       "  </tbody>\n",
       "</table>\n",
       "</div>"
      ],
      "text/plain": [
       "          Date  Pageviews  Clicks  Enrollments  Payments\n",
       "0  Sat, Oct 11       7723     687        134.0      70.0\n",
       "1  Sun, Oct 12       9102     779        147.0      70.0\n",
       "2  Mon, Oct 13      10511     909        167.0      95.0\n",
       "3  Tue, Oct 14       9871     836        156.0     105.0\n",
       "4  Wed, Oct 15      10014     837        163.0      64.0"
      ]
     },
     "execution_count": 18,
     "metadata": {},
     "output_type": "execute_result"
    }
   ],
   "source": [
    "control.head()"
   ]
  },
  {
   "cell_type": "code",
   "execution_count": 19,
   "id": "9a4ca20a-97d2-4ee1-8962-421419922090",
   "metadata": {},
   "outputs": [
    {
     "data": {
      "text/html": [
       "<div>\n",
       "<style scoped>\n",
       "    .dataframe tbody tr th:only-of-type {\n",
       "        vertical-align: middle;\n",
       "    }\n",
       "\n",
       "    .dataframe tbody tr th {\n",
       "        vertical-align: top;\n",
       "    }\n",
       "\n",
       "    .dataframe thead th {\n",
       "        text-align: right;\n",
       "    }\n",
       "</style>\n",
       "<table border=\"1\" class=\"dataframe\">\n",
       "  <thead>\n",
       "    <tr style=\"text-align: right;\">\n",
       "      <th></th>\n",
       "      <th>Date</th>\n",
       "      <th>Pageviews</th>\n",
       "      <th>Clicks</th>\n",
       "      <th>Enrollments</th>\n",
       "      <th>Payments</th>\n",
       "    </tr>\n",
       "  </thead>\n",
       "  <tbody>\n",
       "    <tr>\n",
       "      <th>0</th>\n",
       "      <td>Sat, Oct 11</td>\n",
       "      <td>7716</td>\n",
       "      <td>686</td>\n",
       "      <td>105.0</td>\n",
       "      <td>34.0</td>\n",
       "    </tr>\n",
       "    <tr>\n",
       "      <th>1</th>\n",
       "      <td>Sun, Oct 12</td>\n",
       "      <td>9288</td>\n",
       "      <td>785</td>\n",
       "      <td>116.0</td>\n",
       "      <td>91.0</td>\n",
       "    </tr>\n",
       "    <tr>\n",
       "      <th>2</th>\n",
       "      <td>Mon, Oct 13</td>\n",
       "      <td>10480</td>\n",
       "      <td>884</td>\n",
       "      <td>145.0</td>\n",
       "      <td>79.0</td>\n",
       "    </tr>\n",
       "    <tr>\n",
       "      <th>3</th>\n",
       "      <td>Tue, Oct 14</td>\n",
       "      <td>9867</td>\n",
       "      <td>827</td>\n",
       "      <td>138.0</td>\n",
       "      <td>92.0</td>\n",
       "    </tr>\n",
       "    <tr>\n",
       "      <th>4</th>\n",
       "      <td>Wed, Oct 15</td>\n",
       "      <td>9793</td>\n",
       "      <td>832</td>\n",
       "      <td>140.0</td>\n",
       "      <td>94.0</td>\n",
       "    </tr>\n",
       "  </tbody>\n",
       "</table>\n",
       "</div>"
      ],
      "text/plain": [
       "          Date  Pageviews  Clicks  Enrollments  Payments\n",
       "0  Sat, Oct 11       7716     686        105.0      34.0\n",
       "1  Sun, Oct 12       9288     785        116.0      91.0\n",
       "2  Mon, Oct 13      10480     884        145.0      79.0\n",
       "3  Tue, Oct 14       9867     827        138.0      92.0\n",
       "4  Wed, Oct 15       9793     832        140.0      94.0"
      ]
     },
     "execution_count": 19,
     "metadata": {},
     "output_type": "execute_result"
    }
   ],
   "source": [
    "experiment.head()"
   ]
  },
  {
   "cell_type": "markdown",
   "id": "0ca6c7c3-bd83-4b40-9795-a62b20765c4b",
   "metadata": {},
   "source": [
    "### Visualizations"
   ]
  },
  {
   "cell_type": "code",
   "execution_count": 20,
   "id": "296ce48d-1a4c-432d-a79d-4da35e204c15",
   "metadata": {},
   "outputs": [
    {
     "data": {
      "text/plain": [
       "<matplotlib.legend.Legend at 0x7f85d1dc2e80>"
      ]
     },
     "execution_count": 20,
     "metadata": {},
     "output_type": "execute_result"
    },
    {
     "data": {
      "image/png": "[encoded data removed]",
      "text/plain": [
       "<Figure size 864x432 with 1 Axes>"
      ]
     },
     "metadata": {
      "needs_background": "light"
     },
     "output_type": "display_data"
    }
   ],
   "source": [
    "# invariant: Pageviews\n",
    "plt.figure(figsize=(12,6))\n",
    "plt.plot(control['Date'].values ,control['Pageviews'].values,label = 'control')\n",
    "plt.plot(control['Date'].values ,experiment['Pageviews'].values, label = 'experiment')\n",
    "plt.xticks(rotation = 45)\n",
    "plt.xlabel('Date')\n",
    "plt.ylabel('Number of Cookies')\n",
    "plt.title('Number of Cookies between Control and Experiment Groups')\n",
    "plt.legend()"
   ]
  },
  {
   "cell_type": "code",
   "execution_count": 21,
   "id": "9b338e85-ec63-43ac-836a-146299b141bc",
   "metadata": {},
   "outputs": [
    {
     "data": {
      "text/plain": [
       "<matplotlib.legend.Legend at 0x7f85b056d730>"
      ]
     },
     "execution_count": 21,
     "metadata": {},
     "output_type": "execute_result"
    },
    {
     "data": {
      "image/png": "[encoded data removed]",
      "text/plain": [
       "<Figure size 864x432 with 1 Axes>"
      ]
     },
     "metadata": {
      "needs_background": "light"
     },
     "output_type": "display_data"
    }
   ],
   "source": [
    "# invariant: Clicks\n",
    "plt.figure(figsize=(12,6))\n",
    "plt.plot(control['Date'].values ,control['Clicks'].values,label = 'control')\n",
    "plt.plot(control['Date'].values ,experiment['Clicks'].values, label = 'experiment')\n",
    "plt.xticks(rotation = 45)\n",
    "plt.xlabel('Date')\n",
    "plt.ylabel('Number of Clicks')\n",
    "plt.title('Number of Clicks between Control and Experiment Groups')\n",
    "plt.legend()"
   ]
  },
  {
   "cell_type": "code",
   "execution_count": 22,
   "id": "07574df2-e093-4dd7-82a0-6911195fb103",
   "metadata": {},
   "outputs": [
    {
     "data": {
      "text/plain": [
       "<matplotlib.legend.Legend at 0x7f85b05bb400>"
      ]
     },
     "execution_count": 22,
     "metadata": {},
     "output_type": "execute_result"
    },
    {
     "data": {
      "image/png": "[encoded data removed]",
      "text/plain": [
       "<Figure size 864x432 with 1 Axes>"
      ]
     },
     "metadata": {
      "needs_background": "light"
     },
     "output_type": "display_data"
    }
   ],
   "source": [
    "# invariant: click through rate (Number of clicks / Number of cookies)\n",
    "plt.figure(figsize=(12,6))\n",
    "plt.plot(control['Date'].values,control['Clicks'].values/control['Pageviews'].values,label = 'control')\n",
    "plt.plot(control['Date'].values ,experiment['Clicks'].values/experiment['Pageviews'].values, label = 'experiment') \n",
    "plt.xticks(rotation = 45)\n",
    "plt.xlabel('Date')\n",
    "plt.ylabel('Click Through Rate')\n",
    "plt.title('Click Through Rate between Control and Experiment Groups')\n",
    "plt.legend()"
   ]
  },
  {
   "cell_type": "markdown",
   "id": "8ecb5ce2-b55f-4cad-8ad7-ad98b6a3a46d",
   "metadata": {},
   "source": [
    "### Sanity Check"
   ]
  },
  {
   "cell_type": "markdown",
   "id": "395ffafe-569c-4a2e-a9d5-a785328a103b",
   "metadata": {},
   "source": [
    "#### Sanity Check for Pageviews\n",
    "The pageviews should be equally split between the control and experiment groups. The expected proportion for each group is 50%."
   ]
  },
  {
   "cell_type": "markdown",
   "id": "f992597e-da88-425f-9f0e-36fc997bb4b7",
   "metadata": {},
   "source": [
    "<img src=\"pageview.png\">"
   ]
  },
  {
   "cell_type": "code",
   "execution_count": 23,
   "id": "c4c35ed7-25c2-4abd-90fe-e9fd280ef271",
   "metadata": {},
   "outputs": [],
   "source": [
    "from scipy.stats import norm\n",
    "\n",
    "def sanity_check(counts_control, counts_experiment, expected_proportion=0.5, confidence_level=0.95):\n",
    "    # Total count\n",
    "    total_counts = counts_control + counts_experiment\n",
    "    \n",
    "    # standard error\n",
    "    se = np.sqrt(expected_proportion * (1 - expected_proportion) / total_counts)\n",
    "    \n",
    "    # Z critical value\n",
    "    z_critical = norm.ppf(1 - (1 - confidence_level) / 2)\n",
    "    \n",
    "    # Margin of error\n",
    "    margin_of_error = z_critical * se\n",
    "    \n",
    "    # Observed proportion in the control group\n",
    "    observed_proportion = counts_control / total_counts\n",
    "    \n",
    "    # Confidence interval\n",
    "    lower_bound = expected_proportion - margin_of_error\n",
    "    upper_bound = expected_proportion + margin_of_error\n",
    "    \n",
    "    print(f\"Observed Proportion (Control): {observed_proportion:.4f}\")\n",
    "    print(f\"{confidence_level*100:.0f}% Confidence Interval for Pageviews: [{lower_bound:.4f}, {upper_bound:.4f}]\")\n",
    "    \n",
    "    if lower_bound <= observed_proportion <= upper_bound:\n",
    "        print(\"Sanity check passes: The observed proportion is within the confidence interval.\")\n",
    "    else:\n",
    "        print(\"Sanity check fails: The observed proportion is outside the confidence interval.\")\n",
    "    \n",
    "    return lower_bound, upper_bound, observed_proportion, lower_bound <= observed_proportion <= upper_bound"
   ]
  },
  {
   "cell_type": "code",
   "execution_count": 24,
   "id": "12f817b3-84b1-4260-b5eb-1008382e143c",
   "metadata": {},
   "outputs": [
    {
     "name": "stdout",
     "output_type": "stream",
     "text": [
      "Observed Proportion (Control): 0.5006\n",
      "95% Confidence Interval for Pageviews: [0.4988, 0.5012]\n",
      "Sanity check passes: The observed proportion is within the confidence interval.\n"
     ]
    }
   ],
   "source": [
    "lower_bound, upper_bound, observed_proportion, check = \\\n",
    "sanity_check(control['Pageviews'].sum(), experiment['Pageviews'].sum(), expected_proportion=0.5, confidence_level=0.95)"
   ]
  },
  {
   "cell_type": "code",
   "execution_count": 25,
   "id": "8df010c2-1800-4628-8fb2-5d4ee1158bfc",
   "metadata": {},
   "outputs": [],
   "source": [
    "pageviews = {'metric':['pageviews'], 'lower_bound': [lower_bound], 'upper_bound': [upper_bound],\n",
    "            'observed':[observed_proportion], 'pass':[check]}\n",
    "df_pageviews = pd.DataFrame(pageviews)"
   ]
  },
  {
   "cell_type": "code",
   "execution_count": 26,
   "id": "207daf27-95fd-4816-9b80-45fc1a016fe1",
   "metadata": {},
   "outputs": [
    {
     "data": {
      "text/html": [
       "<div>\n",
       "<style scoped>\n",
       "    .dataframe tbody tr th:only-of-type {\n",
       "        vertical-align: middle;\n",
       "    }\n",
       "\n",
       "    .dataframe tbody tr th {\n",
       "        vertical-align: top;\n",
       "    }\n",
       "\n",
       "    .dataframe thead th {\n",
       "        text-align: right;\n",
       "    }\n",
       "</style>\n",
       "<table border=\"1\" class=\"dataframe\">\n",
       "  <thead>\n",
       "    <tr style=\"text-align: right;\">\n",
       "      <th></th>\n",
       "      <th>metric</th>\n",
       "      <th>lower_bound</th>\n",
       "      <th>upper_bound</th>\n",
       "      <th>observed</th>\n",
       "      <th>pass</th>\n",
       "    </tr>\n",
       "  </thead>\n",
       "  <tbody>\n",
       "    <tr>\n",
       "      <th>0</th>\n",
       "      <td>pageviews</td>\n",
       "      <td>0.49882</td>\n",
       "      <td>0.50118</td>\n",
       "      <td>0.50064</td>\n",
       "      <td>True</td>\n",
       "    </tr>\n",
       "  </tbody>\n",
       "</table>\n",
       "</div>"
      ],
      "text/plain": [
       "      metric  lower_bound  upper_bound  observed  pass\n",
       "0  pageviews      0.49882      0.50118   0.50064  True"
      ]
     },
     "execution_count": 26,
     "metadata": {},
     "output_type": "execute_result"
    }
   ],
   "source": [
    "df_pageviews"
   ]
  },
  {
   "cell_type": "markdown",
   "id": "badf6f2b-e79d-4cfb-ad8f-7d0783e4423e",
   "metadata": {},
   "source": [
    "#### Sanity Check for Clicks\n",
    "Same as Pageviews, Clicks should be equally split between the control and experiment groups. The expected proportion for each group is 50%."
   ]
  },
  {
   "cell_type": "code",
   "execution_count": 27,
   "id": "9d31c12d-1f3b-4e97-bf65-9094d4a27f4f",
   "metadata": {},
   "outputs": [
    {
     "name": "stdout",
     "output_type": "stream",
     "text": [
      "Observed Proportion (Control): 0.5005\n",
      "95% Confidence Interval for Pageviews: [0.4959, 0.5041]\n",
      "Sanity check passes: The observed proportion is within the confidence interval.\n"
     ]
    }
   ],
   "source": [
    "lower_bound, upper_bound, observed_proportion, check = \\\n",
    "sanity_check(control['Clicks'].sum(), experiment['Clicks'].sum(), expected_proportion=0.5, confidence_level=0.95)"
   ]
  },
  {
   "cell_type": "code",
   "execution_count": 28,
   "id": "0f7baa5c-3740-4b4a-8d27-b186c29a5ea3",
   "metadata": {},
   "outputs": [],
   "source": [
    "clicks = {'metric':['clicks'], 'lower_bound': [lower_bound], 'upper_bound': [upper_bound],\n",
    "            'observed':[observed_proportion], 'pass':[check]}\n",
    "df_clicks = pd.DataFrame(clicks)"
   ]
  },
  {
   "cell_type": "code",
   "execution_count": 29,
   "id": "3572fe06-b093-40da-a261-b8d226df5262",
   "metadata": {},
   "outputs": [
    {
     "data": {
      "text/html": [
       "<div>\n",
       "<style scoped>\n",
       "    .dataframe tbody tr th:only-of-type {\n",
       "        vertical-align: middle;\n",
       "    }\n",
       "\n",
       "    .dataframe tbody tr th {\n",
       "        vertical-align: top;\n",
       "    }\n",
       "\n",
       "    .dataframe thead th {\n",
       "        text-align: right;\n",
       "    }\n",
       "</style>\n",
       "<table border=\"1\" class=\"dataframe\">\n",
       "  <thead>\n",
       "    <tr style=\"text-align: right;\">\n",
       "      <th></th>\n",
       "      <th>metric</th>\n",
       "      <th>lower_bound</th>\n",
       "      <th>upper_bound</th>\n",
       "      <th>observed</th>\n",
       "      <th>pass</th>\n",
       "    </tr>\n",
       "  </thead>\n",
       "  <tbody>\n",
       "    <tr>\n",
       "      <th>0</th>\n",
       "      <td>clicks</td>\n",
       "      <td>0.495885</td>\n",
       "      <td>0.504115</td>\n",
       "      <td>0.500467</td>\n",
       "      <td>True</td>\n",
       "    </tr>\n",
       "  </tbody>\n",
       "</table>\n",
       "</div>"
      ],
      "text/plain": [
       "   metric  lower_bound  upper_bound  observed  pass\n",
       "0  clicks     0.495885     0.504115  0.500467  True"
      ]
     },
     "execution_count": 29,
     "metadata": {},
     "output_type": "execute_result"
    }
   ],
   "source": [
    "df_clicks"
   ]
  },
  {
   "cell_type": "markdown",
   "id": "3e231a4d-7fbf-48e3-9e63-3972e66103a3",
   "metadata": {},
   "source": [
    "#### Sanity Check for CTR\n",
    "To perform a sanity check using confidence intervals, you can calculate the confidence interval for the difference in click-through rates (CTR) between the control and experiment groups. If the confidence interval includes zero, it suggests that there is no statistically significant difference between the two groups, thus passing the sanity check."
   ]
  },
  {
   "cell_type": "markdown",
   "id": "4e57d5b1-618b-4780-babc-fe4d91282ca1",
   "metadata": {},
   "source": [
    "<img src='ctr.png'>"
   ]
  },
  {
   "cell_type": "code",
   "execution_count": 30,
   "id": "123a4cd1-7067-459b-b8f7-439d82090733",
   "metadata": {},
   "outputs": [],
   "source": [
    "def sanity_check_ctr(clicks_control, pageviews_control, clicks_experiment, pageviews_experiment, confidence_level=0.95):\n",
    "    # Calculate CTR for each group\n",
    "    ctr_control = clicks_control / pageviews_control\n",
    "    ctr_experiment = clicks_experiment / pageviews_experiment\n",
    "    \n",
    "    # Calculate the pooled CTR\n",
    "    ctr_pooled = (clicks_control + clicks_experiment) / (pageviews_control + pageviews_experiment)\n",
    "    \n",
    "    # Calculate the standard error\n",
    "    se = np.sqrt(ctr_pooled * (1 - ctr_pooled) * (1/pageviews_control + 1/pageviews_experiment))\n",
    "    \n",
    "    # Calculate the z critical value for the given confidence level\n",
    "    z_critical = norm.ppf(1 - (1 - confidence_level) / 2)\n",
    "    \n",
    "    # Calculate the margin of error\n",
    "    margin_of_error = z_critical * se\n",
    "    \n",
    "    # Calculate the difference in CTRs\n",
    "    ctr_diff = ctr_experiment - ctr_control\n",
    "    \n",
    "    # Calculate the confidence interval\n",
    "    lower_bound = ctr_diff - margin_of_error\n",
    "    upper_bound = ctr_diff + margin_of_error\n",
    "    \n",
    "    # Print the results\n",
    "    print(f\"CTR Control: {ctr_control:.4f}\")\n",
    "    print(f\"CTR Experiment: {ctr_experiment:.4f}\")\n",
    "    print(f\"Difference in CTRs: {ctr_diff:.4f}\")\n",
    "    print(f\"{confidence_level*100:.0f}% Confidence Interval: [{lower_bound:.4f}, {upper_bound:.4f}]\")\n",
    "    \n",
    "    # Determine if the sanity check passes\n",
    "    if lower_bound <= 0 <= upper_bound:\n",
    "        print(\"Sanity check passes: The confidence interval includes zero, indicating no significant difference.\")\n",
    "    else:\n",
    "        print(\"Sanity check fails: The confidence interval does not include zero, indicating a significant difference.\")\n",
    "    \n",
    "    return lower_bound, upper_bound, ctr_diff, lower_bound <= 0 <= upper_bound\n"
   ]
  },
  {
   "cell_type": "code",
   "execution_count": 31,
   "id": "e59e4d3a-b359-414b-9d72-f140be7af476",
   "metadata": {},
   "outputs": [
    {
     "name": "stdout",
     "output_type": "stream",
     "text": [
      "CTR Control: 0.0821\n",
      "CTR Experiment: 0.0822\n",
      "Difference in CTRs: 0.0001\n",
      "95% Confidence Interval: [-0.0012, 0.0014]\n",
      "Sanity check passes: The confidence interval includes zero, indicating no significant difference.\n"
     ]
    }
   ],
   "source": [
    "lower_bound, upper_bound, observed_diff, check = \\\n",
    "sanity_check_ctr(control['Clicks'].sum(), control['Pageviews'].sum(), experiment['Clicks'].sum(), experiment['Pageviews'].sum(), confidence_level=0.95)"
   ]
  },
  {
   "cell_type": "code",
   "execution_count": 32,
   "id": "482d8aa3-1ff3-4e1c-a872-a52940d48d2b",
   "metadata": {},
   "outputs": [],
   "source": [
    "ctr = {'metric':['ctr'], 'lower_bound': [lower_bound], 'upper_bound': [upper_bound],\n",
    "            'observed':[observed_diff], 'pass':[check]}\n",
    "df_ctr = pd.DataFrame(ctr)"
   ]
  },
  {
   "cell_type": "code",
   "execution_count": 33,
   "id": "07db5714-dbb7-47dc-88e0-a1e006417420",
   "metadata": {},
   "outputs": [
    {
     "data": {
      "text/html": [
       "<div>\n",
       "<style scoped>\n",
       "    .dataframe tbody tr th:only-of-type {\n",
       "        vertical-align: middle;\n",
       "    }\n",
       "\n",
       "    .dataframe tbody tr th {\n",
       "        vertical-align: top;\n",
       "    }\n",
       "\n",
       "    .dataframe thead th {\n",
       "        text-align: right;\n",
       "    }\n",
       "</style>\n",
       "<table border=\"1\" class=\"dataframe\">\n",
       "  <thead>\n",
       "    <tr style=\"text-align: right;\">\n",
       "      <th></th>\n",
       "      <th>metric</th>\n",
       "      <th>lower_bound</th>\n",
       "      <th>upper_bound</th>\n",
       "      <th>observed</th>\n",
       "      <th>pass</th>\n",
       "    </tr>\n",
       "  </thead>\n",
       "  <tbody>\n",
       "    <tr>\n",
       "      <th>0</th>\n",
       "      <td>pageviews</td>\n",
       "      <td>0.498820</td>\n",
       "      <td>0.501180</td>\n",
       "      <td>0.500640</td>\n",
       "      <td>True</td>\n",
       "    </tr>\n",
       "    <tr>\n",
       "      <th>0</th>\n",
       "      <td>clicks</td>\n",
       "      <td>0.495885</td>\n",
       "      <td>0.504115</td>\n",
       "      <td>0.500467</td>\n",
       "      <td>True</td>\n",
       "    </tr>\n",
       "    <tr>\n",
       "      <th>0</th>\n",
       "      <td>ctr</td>\n",
       "      <td>-0.001239</td>\n",
       "      <td>0.001352</td>\n",
       "      <td>0.000057</td>\n",
       "      <td>True</td>\n",
       "    </tr>\n",
       "  </tbody>\n",
       "</table>\n",
       "</div>"
      ],
      "text/plain": [
       "      metric  lower_bound  upper_bound  observed  pass\n",
       "0  pageviews     0.498820     0.501180  0.500640  True\n",
       "0     clicks     0.495885     0.504115  0.500467  True\n",
       "0        ctr    -0.001239     0.001352  0.000057  True"
      ]
     },
     "execution_count": 33,
     "metadata": {},
     "output_type": "execute_result"
    }
   ],
   "source": [
    "sanity_check = pd.concat([df_pageviews, df_clicks, df_ctr])\n",
    "sanity_check"
   ]
  },
  {
   "cell_type": "markdown",
   "id": "ca86ed5b-8ce9-4134-8a39-f6100e64417e",
   "metadata": {},
   "source": [
    "Based on above results, we can conclude that all invariant metrics passed the sanity check."
   ]
  },
  {
   "cell_type": "markdown",
   "id": "cdc69156-9ba6-44ec-b8bf-7e9c6be6c1c8",
   "metadata": {},
   "source": [
    "### Evaluation Metrics Analysis"
   ]
  },
  {
   "cell_type": "markdown",
   "id": "cf9d8458-9196-497b-a69a-82b1e4c3c749",
   "metadata": {},
   "source": [
    "#### Visualizations"
   ]
  },
  {
   "cell_type": "code",
   "execution_count": 34,
   "id": "fe340495-1f6c-4c90-80f0-28e3b246ee03",
   "metadata": {},
   "outputs": [],
   "source": [
    "# remove days without enrollments and payments data\n",
    "control_sliced = control[:23]\n",
    "experiment_sliced = experiment[:23]"
   ]
  },
  {
   "cell_type": "code",
   "execution_count": 35,
   "id": "053e2c37-a2a7-4a5e-bb7b-29ce7c26dbc4",
   "metadata": {},
   "outputs": [
    {
     "data": {
      "text/plain": [
       "<matplotlib.legend.Legend at 0x7f85b064d970>"
      ]
     },
     "execution_count": 35,
     "metadata": {},
     "output_type": "execute_result"
    },
    {
     "data": {
      "image/png": "[encoded data removed]",
      "text/plain": [
       "<Figure size 864x432 with 1 Axes>"
      ]
     },
     "metadata": {
      "needs_background": "light"
     },
     "output_type": "display_data"
    }
   ],
   "source": [
    "# evaluation metric: Gross Conversion\n",
    "plt.figure(figsize=(12,6))\n",
    "plt.plot(control_sliced['Date'].values,control_sliced['Enrollments'].values/control_sliced['Clicks'].values,label = 'control')\n",
    "plt.plot(control_sliced['Date'].values,experiment_sliced['Enrollments'].values/experiment_sliced['Clicks'].values, label = 'experiment')\n",
    "plt.xticks(rotation = 45)\n",
    "plt.xlabel('Date')\n",
    "plt.ylabel('Number of Cookies')\n",
    "plt.title('Gross Conversion between Control and Experiment Groups')\n",
    "plt.legend()"
   ]
  },
  {
   "cell_type": "code",
   "execution_count": 36,
   "id": "deb512e3-aee6-419c-bc8f-88b054f488c6",
   "metadata": {},
   "outputs": [
    {
     "data": {
      "text/plain": [
       "<matplotlib.legend.Legend at 0x7f8580097190>"
      ]
     },
     "execution_count": 36,
     "metadata": {},
     "output_type": "execute_result"
    },
    {
     "data": {
      "image/png": "[encoded data removed]",
      "text/plain": [
       "<Figure size 864x432 with 1 Axes>"
      ]
     },
     "metadata": {
      "needs_background": "light"
     },
     "output_type": "display_data"
    }
   ],
   "source": [
    "# evaluation metric: Net Conversion\n",
    "plt.figure(figsize=(12,6))\n",
    "plt.plot(control_sliced['Date'].values ,control_sliced['Payments'].values/control_sliced['Clicks'].values,label = 'control')\n",
    "plt.plot(control_sliced['Date'].values ,experiment_sliced['Payments'].values/experiment_sliced['Clicks'].values, label = 'experiment')\n",
    "plt.xticks(rotation = 45)\n",
    "plt.xlabel('Date')\n",
    "plt.ylabel('Number of Cookies')\n",
    "plt.title('Net Conversion between Control and Experiment Groups')\n",
    "plt.legend()"
   ]
  },
  {
   "cell_type": "markdown",
   "id": "1af00dbc-04ec-44be-9412-9e3341863a12",
   "metadata": {},
   "source": [
    "#### Practical and Statistical Significance\n",
    "For evaluation metrics, calculate a confidence interval for the difference between the experiment and control groups, and check whether each metric is statistically and/or practically significance. A metric is statistically significant if the confidence interval does not include 0 (that is, you can be confident there was a change), and it is practically significant if the confidence interval does not include the practical significance boundary (that is, you can be confident there is a change that matters to the business.)"
   ]
  },
  {
   "cell_type": "code",
   "execution_count": 45,
   "id": "90d27ed6-b645-4c08-9806-12987acc152a",
   "metadata": {},
   "outputs": [],
   "source": [
    "def significance_check(numerator_control, denominator_control, numerator_experiment, denominator_experiment, practical_significance, confidence_level=0.95):\n",
    "    # Calculate conversion rate for each group\n",
    "    conversion_control = numerator_control / denominator_control\n",
    "    conversion_experiment = numerator_experiment / denominator_experiment\n",
    "    \n",
    "    # Calculate the pooled conversion rate\n",
    "    conversion_pooled = (numerator_control + numerator_experiment) / (denominator_control + denominator_experiment)\n",
    "    \n",
    "    # Calculate the standard error\n",
    "    se = np.sqrt(conversion_pooled * (1 - conversion_pooled) * (1/denominator_control + 1/denominator_experiment))\n",
    "    \n",
    "    # Calculate the z critical value for the given confidence level\n",
    "    z_critical = norm.ppf(1 - (1 - confidence_level) / 2)\n",
    "    \n",
    "    # Calculate the margin of error\n",
    "    margin_of_error = z_critical * se\n",
    "    \n",
    "    # Calculate the difference in conversion rate\n",
    "    conversion_diff = conversion_experiment - conversion_control\n",
    "    \n",
    "    # Calculate the confidence interval\n",
    "    lower_bound = conversion_diff - margin_of_error\n",
    "    upper_bound = conversion_diff + margin_of_error\n",
    "    \n",
    "    # Print the results\n",
    "    print(f\"Conversion Control: {conversion_control:.4f}\")\n",
    "    print(f\"Conversion Experiment: {conversion_experiment:.4f}\")\n",
    "    print(f\"Difference in convertion: {conversion_diff:.4f}\")\n",
    "    print(f\"{confidence_level*100:.0f}% Confidence Interval: [{lower_bound:.4f}, {upper_bound:.4f}]\")\n",
    "    \n",
    "    # Determine if statistical significant\n",
    "    if lower_bound <= 0 <= upper_bound:\n",
    "        print(\"Statistical significant difference is false.\")\n",
    "    else:\n",
    "        print(\"Statistical significant difference is true.\")\n",
    "        \n",
    "    # Determine if practical significant\n",
    "    if upper_bound < -practical_significance or lower_bound > practical_significance:\n",
    "        print(\"Practical significant difference is true.\")\n",
    "    else:\n",
    "        print(\"Practical significant difference is false.\")\n",
    "    \n",
    "    return lower_bound, upper_bound, conversion_diff, not(lower_bound <= 0 <= upper_bound), (upper_bound < -practical_significance or lower_bound > practical_significance)"
   ]
  },
  {
   "cell_type": "code",
   "execution_count": 38,
   "id": "0e5566e0-569a-452f-b9ca-ad59ffbb4d07",
   "metadata": {},
   "outputs": [
    {
     "data": {
      "text/html": [
       "<div>\n",
       "<style scoped>\n",
       "    .dataframe tbody tr th:only-of-type {\n",
       "        vertical-align: middle;\n",
       "    }\n",
       "\n",
       "    .dataframe tbody tr th {\n",
       "        vertical-align: top;\n",
       "    }\n",
       "\n",
       "    .dataframe thead th {\n",
       "        text-align: right;\n",
       "    }\n",
       "</style>\n",
       "<table border=\"1\" class=\"dataframe\">\n",
       "  <thead>\n",
       "    <tr style=\"text-align: right;\">\n",
       "      <th></th>\n",
       "      <th>metric</th>\n",
       "      <th>value</th>\n",
       "      <th>dmin</th>\n",
       "      <th>scaled_value</th>\n",
       "      <th>standard_error</th>\n",
       "      <th>sample_size</th>\n",
       "      <th>pageviews</th>\n",
       "      <th>duration</th>\n",
       "    </tr>\n",
       "  </thead>\n",
       "  <tbody>\n",
       "    <tr>\n",
       "      <th>0</th>\n",
       "      <td>cookies</td>\n",
       "      <td>40000.000000</td>\n",
       "      <td>3000.0000</td>\n",
       "      <td>5000.0</td>\n",
       "      <td>NaN</td>\n",
       "      <td>NaN</td>\n",
       "      <td>NaN</td>\n",
       "      <td>NaN</td>\n",
       "    </tr>\n",
       "    <tr>\n",
       "      <th>1</th>\n",
       "      <td>clicks</td>\n",
       "      <td>3200.000000</td>\n",
       "      <td>240.0000</td>\n",
       "      <td>400.0</td>\n",
       "      <td>NaN</td>\n",
       "      <td>NaN</td>\n",
       "      <td>NaN</td>\n",
       "      <td>NaN</td>\n",
       "    </tr>\n",
       "    <tr>\n",
       "      <th>2</th>\n",
       "      <td>users</td>\n",
       "      <td>660.000000</td>\n",
       "      <td>50.0000</td>\n",
       "      <td>82.5</td>\n",
       "      <td>NaN</td>\n",
       "      <td>NaN</td>\n",
       "      <td>NaN</td>\n",
       "      <td>NaN</td>\n",
       "    </tr>\n",
       "    <tr>\n",
       "      <th>3</th>\n",
       "      <td>CTR</td>\n",
       "      <td>0.080000</td>\n",
       "      <td>0.0100</td>\n",
       "      <td>NaN</td>\n",
       "      <td>NaN</td>\n",
       "      <td>NaN</td>\n",
       "      <td>NaN</td>\n",
       "      <td>NaN</td>\n",
       "    </tr>\n",
       "    <tr>\n",
       "      <th>4</th>\n",
       "      <td>gross_conversion</td>\n",
       "      <td>0.206250</td>\n",
       "      <td>0.0100</td>\n",
       "      <td>NaN</td>\n",
       "      <td>0.020231</td>\n",
       "      <td>26155.0</td>\n",
       "      <td>6.538750e+05</td>\n",
       "      <td>33.0</td>\n",
       "    </tr>\n",
       "    <tr>\n",
       "      <th>5</th>\n",
       "      <td>retention</td>\n",
       "      <td>0.530000</td>\n",
       "      <td>0.0100</td>\n",
       "      <td>NaN</td>\n",
       "      <td>0.054949</td>\n",
       "      <td>39051.0</td>\n",
       "      <td>4.733455e+06</td>\n",
       "      <td>237.0</td>\n",
       "    </tr>\n",
       "    <tr>\n",
       "      <th>6</th>\n",
       "      <td>net_conversion</td>\n",
       "      <td>0.109313</td>\n",
       "      <td>0.0075</td>\n",
       "      <td>NaN</td>\n",
       "      <td>0.015602</td>\n",
       "      <td>27984.0</td>\n",
       "      <td>6.996000e+05</td>\n",
       "      <td>35.0</td>\n",
       "    </tr>\n",
       "  </tbody>\n",
       "</table>\n",
       "</div>"
      ],
      "text/plain": [
       "             metric         value       dmin  scaled_value  standard_error  \\\n",
       "0           cookies  40000.000000  3000.0000        5000.0             NaN   \n",
       "1            clicks   3200.000000   240.0000         400.0             NaN   \n",
       "2             users    660.000000    50.0000          82.5             NaN   \n",
       "3               CTR      0.080000     0.0100           NaN             NaN   \n",
       "4  gross_conversion      0.206250     0.0100           NaN        0.020231   \n",
       "5         retention      0.530000     0.0100           NaN        0.054949   \n",
       "6    net_conversion      0.109313     0.0075           NaN        0.015602   \n",
       "\n",
       "   sample_size     pageviews  duration  \n",
       "0          NaN           NaN       NaN  \n",
       "1          NaN           NaN       NaN  \n",
       "2          NaN           NaN       NaN  \n",
       "3          NaN           NaN       NaN  \n",
       "4      26155.0  6.538750e+05      33.0  \n",
       "5      39051.0  4.733455e+06     237.0  \n",
       "6      27984.0  6.996000e+05      35.0  "
      ]
     },
     "execution_count": 38,
     "metadata": {},
     "output_type": "execute_result"
    }
   ],
   "source": [
    "baseline"
   ]
  },
  {
   "cell_type": "code",
   "execution_count": 39,
   "id": "7d0340da-da8f-4823-b412-94c59cd57582",
   "metadata": {},
   "outputs": [
    {
     "data": {
      "text/html": [
       "<div>\n",
       "<style scoped>\n",
       "    .dataframe tbody tr th:only-of-type {\n",
       "        vertical-align: middle;\n",
       "    }\n",
       "\n",
       "    .dataframe tbody tr th {\n",
       "        vertical-align: top;\n",
       "    }\n",
       "\n",
       "    .dataframe thead th {\n",
       "        text-align: right;\n",
       "    }\n",
       "</style>\n",
       "<table border=\"1\" class=\"dataframe\">\n",
       "  <thead>\n",
       "    <tr style=\"text-align: right;\">\n",
       "      <th></th>\n",
       "      <th>Date</th>\n",
       "      <th>Pageviews</th>\n",
       "      <th>Clicks</th>\n",
       "      <th>Enrollments</th>\n",
       "      <th>Payments</th>\n",
       "    </tr>\n",
       "  </thead>\n",
       "  <tbody>\n",
       "    <tr>\n",
       "      <th>0</th>\n",
       "      <td>Sat, Oct 11</td>\n",
       "      <td>7723</td>\n",
       "      <td>687</td>\n",
       "      <td>134.0</td>\n",
       "      <td>70.0</td>\n",
       "    </tr>\n",
       "    <tr>\n",
       "      <th>1</th>\n",
       "      <td>Sun, Oct 12</td>\n",
       "      <td>9102</td>\n",
       "      <td>779</td>\n",
       "      <td>147.0</td>\n",
       "      <td>70.0</td>\n",
       "    </tr>\n",
       "    <tr>\n",
       "      <th>2</th>\n",
       "      <td>Mon, Oct 13</td>\n",
       "      <td>10511</td>\n",
       "      <td>909</td>\n",
       "      <td>167.0</td>\n",
       "      <td>95.0</td>\n",
       "    </tr>\n",
       "    <tr>\n",
       "      <th>3</th>\n",
       "      <td>Tue, Oct 14</td>\n",
       "      <td>9871</td>\n",
       "      <td>836</td>\n",
       "      <td>156.0</td>\n",
       "      <td>105.0</td>\n",
       "    </tr>\n",
       "    <tr>\n",
       "      <th>4</th>\n",
       "      <td>Wed, Oct 15</td>\n",
       "      <td>10014</td>\n",
       "      <td>837</td>\n",
       "      <td>163.0</td>\n",
       "      <td>64.0</td>\n",
       "    </tr>\n",
       "  </tbody>\n",
       "</table>\n",
       "</div>"
      ],
      "text/plain": [
       "          Date  Pageviews  Clicks  Enrollments  Payments\n",
       "0  Sat, Oct 11       7723     687        134.0      70.0\n",
       "1  Sun, Oct 12       9102     779        147.0      70.0\n",
       "2  Mon, Oct 13      10511     909        167.0      95.0\n",
       "3  Tue, Oct 14       9871     836        156.0     105.0\n",
       "4  Wed, Oct 15      10014     837        163.0      64.0"
      ]
     },
     "execution_count": 39,
     "metadata": {},
     "output_type": "execute_result"
    }
   ],
   "source": [
    "control_sliced.head()"
   ]
  },
  {
   "cell_type": "code",
   "execution_count": 46,
   "id": "c7abd62e-693f-44fa-9b0c-b34d4a9a41fb",
   "metadata": {},
   "outputs": [
    {
     "name": "stdout",
     "output_type": "stream",
     "text": [
      "Conversion Control: 0.2189\n",
      "Conversion Experiment: 0.1983\n",
      "Difference in convertion: -0.0206\n",
      "95% Confidence Interval: [-0.0291, -0.0120]\n",
      "Statistical significant difference is true.\n",
      "Practical significant difference is true.\n"
     ]
    }
   ],
   "source": [
    "# Gross Conversion\n",
    "lower_bound, upper_bound, conversion_diff, statistical_significance, practical_significance = \\\n",
    "significance_check(control_sliced['Enrollments'].sum(), control_sliced['Clicks'].sum(), \n",
    "                   experiment_sliced['Enrollments'].sum(), experiment_sliced['Clicks'].sum(), \n",
    "                   baseline.loc[4, 'dmin'], confidence_level=0.95)"
   ]
  },
  {
   "cell_type": "code",
   "execution_count": 47,
   "id": "95715a6c-0715-41c8-aecc-5c2dba9ab98b",
   "metadata": {},
   "outputs": [],
   "source": [
    "gross_conversion = {'metric':['gross_conversion'], 'lower_bound': [lower_bound], 'upper_bound': [upper_bound],'conversion_diff':[conversion_diff], \n",
    "                    'statistical_significance':[statistical_significance], 'practical_significance':[practical_significance]}\n",
    "df_gross = pd.DataFrame(gross_conversion)"
   ]
  },
  {
   "cell_type": "code",
   "execution_count": 48,
   "id": "76de02a6-31a7-42ec-898d-180c4eff255f",
   "metadata": {},
   "outputs": [
    {
     "name": "stdout",
     "output_type": "stream",
     "text": [
      "Conversion Control: 0.1176\n",
      "Conversion Experiment: 0.1127\n",
      "Difference in convertion: -0.0049\n",
      "95% Confidence Interval: [-0.0116, 0.0019]\n",
      "Statistical significant difference is false.\n",
      "Practical significant difference is false.\n"
     ]
    }
   ],
   "source": [
    "# Net Conversion\n",
    "lower_bound, upper_bound, conversion_diff, statistical_significance, practical_significance = \\\n",
    "significance_check(control_sliced['Payments'].sum(), control_sliced['Clicks'].sum(), \n",
    "                   experiment_sliced['Payments'].sum(), experiment_sliced['Clicks'].sum(), \n",
    "                   baseline.loc[6, 'dmin'], confidence_level=0.95)"
   ]
  },
  {
   "cell_type": "code",
   "execution_count": 49,
   "id": "f0e6ef35-83f0-4d15-b539-74474a2a1282",
   "metadata": {},
   "outputs": [],
   "source": [
    "net_conversion = {'metric':['net_conversion'], 'lower_bound': [lower_bound], 'upper_bound': [upper_bound],'conversion_diff':[conversion_diff], \n",
    "                    'statistical_significance':[statistical_significance], 'practical_significance':[practical_significance]}\n",
    "df_net = pd.DataFrame(net_conversion)"
   ]
  },
  {
   "cell_type": "code",
   "execution_count": 50,
   "id": "b33ad112-67ed-4b67-929e-14448fa3a273",
   "metadata": {},
   "outputs": [
    {
     "data": {
      "text/html": [
       "<div>\n",
       "<style scoped>\n",
       "    .dataframe tbody tr th:only-of-type {\n",
       "        vertical-align: middle;\n",
       "    }\n",
       "\n",
       "    .dataframe tbody tr th {\n",
       "        vertical-align: top;\n",
       "    }\n",
       "\n",
       "    .dataframe thead th {\n",
       "        text-align: right;\n",
       "    }\n",
       "</style>\n",
       "<table border=\"1\" class=\"dataframe\">\n",
       "  <thead>\n",
       "    <tr style=\"text-align: right;\">\n",
       "      <th></th>\n",
       "      <th>metric</th>\n",
       "      <th>lower_bound</th>\n",
       "      <th>upper_bound</th>\n",
       "      <th>conversion_diff</th>\n",
       "      <th>statistical_significance</th>\n",
       "      <th>practical_significance</th>\n",
       "    </tr>\n",
       "  </thead>\n",
       "  <tbody>\n",
       "    <tr>\n",
       "      <th>0</th>\n",
       "      <td>gross_conversion</td>\n",
       "      <td>-0.029123</td>\n",
       "      <td>-0.011987</td>\n",
       "      <td>-0.020555</td>\n",
       "      <td>True</td>\n",
       "      <td>True</td>\n",
       "    </tr>\n",
       "    <tr>\n",
       "      <th>0</th>\n",
       "      <td>net_conversion</td>\n",
       "      <td>-0.011605</td>\n",
       "      <td>0.001857</td>\n",
       "      <td>-0.004874</td>\n",
       "      <td>False</td>\n",
       "      <td>False</td>\n",
       "    </tr>\n",
       "  </tbody>\n",
       "</table>\n",
       "</div>"
      ],
      "text/plain": [
       "             metric  lower_bound  upper_bound  conversion_diff  \\\n",
       "0  gross_conversion    -0.029123    -0.011987        -0.020555   \n",
       "0    net_conversion    -0.011605     0.001857        -0.004874   \n",
       "\n",
       "   statistical_significance  practical_significance  \n",
       "0                      True                    True  \n",
       "0                     False                   False  "
      ]
     },
     "execution_count": 50,
     "metadata": {},
     "output_type": "execute_result"
    }
   ],
   "source": [
    "evaluation_metrics = pd.concat([df_gross, df_net])\n",
    "evaluation_metrics"
   ]
  },
  {
   "cell_type": "markdown",
   "id": "55e63028-79be-4f25-a3fc-aa4e8f320a28",
   "metadata": {},
   "source": [
    "Based on the above results, Gross Conversion is statistical and pratical significant, and Net Conversion is not statistical and practical significant."
   ]
  },
  {
   "cell_type": "markdown",
   "id": "771f5284-7db8-4bb6-914e-0cdcbe090df0",
   "metadata": {},
   "source": [
    "### Sign Test\n",
    "How the Sign Test Works:\n",
    "- Calculate the Difference: For each pair of observations, calculate the difference between the two values (e.g., after - before).\n",
    "- Assign Signs: Record whether each difference is positive (+), negative (−), or zero (0). Ignore pairs with a difference of zero, as they do not contribute to the test.\n",
    "- Count the Signs: Count the number of positive differences and the number of negative differences.\n",
    "- Perform the Test:\n",
    "The test checks whether the number of positive differences is significantly different from the number of negative differences.\n",
    "Under the null hypothesis, there is no difference between the paired observations, so the number of positive and negative differences should be approximately equal.\n"
   ]
  },
  {
   "cell_type": "code",
   "execution_count": 61,
   "id": "3734d8ce-ed49-41b4-86fd-9734eef8ac8b",
   "metadata": {},
   "outputs": [],
   "source": [
    "from scipy.stats import binomtest\n",
    "\n",
    "def sign_test(control_group:np.array, experiment_group:np.array):\n",
    "    \n",
    "    \"\"\"\n",
    "    use binom_test to perform a two-sided sign test. \n",
    "    Under the null hypothesis, the probability of getting a positive or negative difference is 0.5.\n",
    "    \"\"\"\n",
    "    \n",
    "    # Calculate the differences\n",
    "    differences = experiment_group - control_group\n",
    "\n",
    "    # Count the number of positive and negative signs (ignore zero differences)\n",
    "    num_positive = np.sum(differences > 0)\n",
    "    num_negative = np.sum(differences < 0)\n",
    "\n",
    "    # Perform the sign test using binom_test (two-sided test)\n",
    "    result = binomtest(num_positive, n=num_positive + num_negative, p=0.5, alternative='two-sided')\n",
    "\n",
    "    # Output results\n",
    "    print(f\"Number of positive differences: {num_positive}\")\n",
    "    print(f\"Number of negative differences: {num_negative}\")\n",
    "    print(f\"P-value from the sign test: {result.pvalue:.4f}\")\n",
    "\n",
    "    # Interpretation\n",
    "    if result.pvalue < 0.05:\n",
    "        print(\"There is a statistically significant difference between control group and experiment group.\")\n",
    "    else:\n",
    "        print(\"There is no statistically significant difference between control group and experiment group.\")\n"
   ]
  },
  {
   "cell_type": "code",
   "execution_count": 62,
   "id": "8bf05210-f56f-4129-8112-d06ee2c9145a",
   "metadata": {},
   "outputs": [
    {
     "name": "stdout",
     "output_type": "stream",
     "text": [
      "For Gross Conversion:\n",
      "Number of positive differences: 4\n",
      "Number of negative differences: 19\n",
      "P-value from the sign test: 0.0026\n",
      "There is a statistically significant difference between control group and experiment group.\n"
     ]
    }
   ],
   "source": [
    "# sign test for gross conversion\n",
    "gross_conversion_control = np.array(control_sliced['Enrollments'] / control_sliced['Clicks'])\n",
    "gross_conversion_experiment = np.array(experiment_sliced['Enrollments'] / experiment_sliced['Clicks'])\n",
    "\n",
    "print('For Gross Conversion:')\n",
    "sign_test(gross_conversion_control, gross_conversion_experiment)"
   ]
  },
  {
   "cell_type": "code",
   "execution_count": 64,
   "id": "eba16a3c-5bff-4b36-b101-3bad4c02b7ad",
   "metadata": {},
   "outputs": [
    {
     "name": "stdout",
     "output_type": "stream",
     "text": [
      "For Net Conversion:\n",
      "Number of positive differences: 10\n",
      "Number of negative differences: 13\n",
      "P-value from the sign test: 0.6776\n",
      "There is no statistically significant difference between control group and experiment group.\n"
     ]
    }
   ],
   "source": [
    "# sign test for net conversion\n",
    "net_conversion_control = np.array(control_sliced['Payments'] / control_sliced['Clicks'])\n",
    "net_conversion_experiment = np.array(experiment_sliced['Payments'] / experiment_sliced['Clicks'])\n",
    "\n",
    "print('For Net Conversion:')\n",
    "sign_test(net_conversion_control, net_conversion_experiment)"
   ]
  },
  {
   "cell_type": "code",
   "execution_count": null,
   "id": "af1b1bbe-94b0-406d-87f6-267dc2ada465",
   "metadata": {},
   "outputs": [],
   "source": []
  }
 ],
 "metadata": {
  "kernelspec": {
   "display_name": "Python 3 (ipykernel)",
   "language": "python",
   "name": "python3"
  },
  "language_info": {
   "codemirror_mode": {
    "name": "ipython",
    "version": 3
   },
   "file_extension": ".py",
   "mimetype": "text/x-python",
   "name": "python",
   "nbconvert_exporter": "python",
   "pygments_lexer": "ipython3",
   "version": "3.9.7"
  }
 },
 "nbformat": 4,
 "nbformat_minor": 5
}
